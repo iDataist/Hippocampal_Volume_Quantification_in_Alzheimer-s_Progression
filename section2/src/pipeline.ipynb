{
 "cells": [
  {
   "cell_type": "code",
   "execution_count": 1,
   "metadata": {},
   "outputs": [],
   "source": [
    "# !pip install nibabel\n",
    "# !pip install medpy\n",
    "# !pip install tensorboard\n",
    "# !pip install --upgrade tensorboard\n",
    "# !pip install --upgrade torch"
   ]
  },
  {
   "cell_type": "code",
   "execution_count": 2,
   "metadata": {},
   "outputs": [],
   "source": [
    "import os\n",
    "from os import listdir\n",
    "from os.path import isfile, join\n",
    "import time\n",
    "import glob\n",
    "import json\n",
    "import numpy as np\n",
    "import matplotlib.pyplot as plt\n",
    "import matplotlib as mpl\n",
    "import torch\n",
    "from torch import nn\n",
    "import torch.optim as optim\n",
    "import torch.nn.functional as F\n",
    "from torch.utils.data import Dataset, DataLoader\n",
    "from torch.utils.tensorboard import SummaryWriter\n",
    "from PIL import Image\n",
    "import nibabel as nib\n",
    "from medpy.io import load\n",
    "import random\n",
    "\n",
    "%matplotlib inline"
   ]
  },
  {
   "cell_type": "markdown",
   "metadata": {},
   "source": [
    "## utils"
   ]
  },
  {
   "cell_type": "code",
   "execution_count": 3,
   "metadata": {},
   "outputs": [],
   "source": [
    "def mpl_image_grid(images):\n",
    "    \"\"\"\n",
    "    Create an image grid from an array of images. Show up to 16 images in one figure\n",
    "\n",
    "    Arguments:\n",
    "        image {Torch tensor} -- NxWxH array of images\n",
    "\n",
    "    Returns:\n",
    "        Matplotlib figure\n",
    "    \"\"\"\n",
    "    # Create a figure to contain the plot.\n",
    "    n = min(images.shape[0], 16) # no more than 16 thumbnails\n",
    "    rows = 4\n",
    "    cols = (n // 4) + (1 if (n % 4) != 0 else 0)\n",
    "    figure = plt.figure(figsize=(2*rows, 2*cols))\n",
    "    plt.subplots_adjust(0, 0, 1, 1, 0.001, 0.001)\n",
    "    for i in range(n):\n",
    "        # Start next subplot.\n",
    "        plt.subplot(cols, rows, i + 1)\n",
    "        plt.xticks([])\n",
    "        plt.yticks([])\n",
    "        plt.grid(False)\n",
    "        if images.shape[1] == 3:\n",
    "            # this is specifically for 3 softmax'd classes with 0 being bg\n",
    "            # We are building a probability map from our three classes using \n",
    "            # fractional probabilities contained in the mask\n",
    "            vol = images[i].detach().numpy()\n",
    "            img = [[[(1-vol[0,x,y])*vol[1,x,y], (1-vol[0,x,y])*vol[2,x,y], 0] \\\n",
    "                            for y in range(vol.shape[2])] \\\n",
    "                            for x in range(vol.shape[1])]\n",
    "            plt.imshow(img)\n",
    "        else: # plotting only 1st channel\n",
    "            plt.imshow((images[i, 0]*255).int(), cmap= \"gray\")\n",
    "\n",
    "    return figure\n",
    "\n",
    "def log_to_tensorboard(writer, loss, data, target, prediction_softmax, prediction, counter):\n",
    "    \"\"\"Logs data to Tensorboard\n",
    "\n",
    "    Arguments:\n",
    "        writer {SummaryWriter} -- PyTorch Tensorboard wrapper to use for logging\n",
    "        loss {float} -- loss\n",
    "        data {tensor} -- image data\n",
    "        target {tensor} -- ground truth label\n",
    "        prediction_softmax {tensor} -- softmax'd prediction\n",
    "        prediction {tensor} -- raw prediction (to be used in argmax)\n",
    "        counter {int} -- batch and epoch counter\n",
    "    \"\"\"\n",
    "    writer.add_scalar(\"Loss\",\\\n",
    "                    loss, counter)\n",
    "    writer.add_figure(\"Image Data\",\\\n",
    "        mpl_image_grid(data.float().cpu()), global_step=counter)\n",
    "    writer.add_figure(\"Mask\",\\\n",
    "        mpl_image_grid(target.float().cpu()), global_step=counter)\n",
    "    writer.add_figure(\"Probability map\",\\\n",
    "        mpl_image_grid(prediction_softmax.cpu()), global_step=counter)\n",
    "    writer.add_figure(\"Prediction\",\\\n",
    "        mpl_image_grid(torch.argmax(prediction.cpu(), dim=1, keepdim=True)), global_step=counter)\n",
    "\n",
    "def save_numpy_as_image(arr, path):\n",
    "    \"\"\"\n",
    "    This saves image (2D array) as a file using matplotlib\n",
    "\n",
    "    Arguments:\n",
    "        arr {array} -- 2D array of pixels\n",
    "        path {string} -- path to file\n",
    "    \"\"\"\n",
    "    plt.imshow(arr, cmap=\"gray\") #Needs to be in row,col order\n",
    "    plt.savefig(path)\n",
    "\n",
    "def med_reshape(image, new_shape):\n",
    "    \"\"\"\n",
    "    This function reshapes 3D data to new dimension padding with zeros\n",
    "    and leaving the content in the top-left corner\n",
    "\n",
    "    Arguments:\n",
    "        image {array} -- 3D array of pixel data\n",
    "        new_shape {3-tuple} -- expected output shape\n",
    "\n",
    "    Returns:\n",
    "        3D array of desired shape, padded with zeroes\n",
    "    \"\"\"\n",
    "\n",
    "    reshaped_image = np.zeros(new_shape)\n",
    "    x, y, z = image.shape\n",
    "    reshaped_image[:x, :y, :z] = image\n",
    "\n",
    "    return reshaped_image"
   ]
  },
  {
   "cell_type": "markdown",
   "metadata": {},
   "source": [
    "## volume_stats"
   ]
  },
  {
   "cell_type": "code",
   "execution_count": 4,
   "metadata": {},
   "outputs": [],
   "source": [
    "def Dice3d(a, b):\n",
    "    \"\"\"\n",
    "    This will compute the Dice Similarity coefficient for two 3-dimensional volumes\n",
    "    Volumes are expected to be of the same size. We are expecting binary masks -\n",
    "    0's are treated as background and anything else is counted as data\n",
    "\n",
    "    Arguments:\n",
    "        a {Numpy array} -- 3D array with first volume\n",
    "        b {Numpy array} -- 3D array with second volume\n",
    "\n",
    "    Returns:\n",
    "        float\n",
    "    \"\"\"\n",
    "    if len(a.shape) != 3 or len(b.shape) != 3:\n",
    "        raise Exception(f\"Expecting 3 dimensional inputs, got {a.shape} and {b.shape}\")\n",
    "\n",
    "    if a.shape != b.shape:\n",
    "        raise Exception(f\"Expecting inputs of the same shape, got {a.shape} and {b.shape}\")\n",
    "\n",
    "    intersection = np.sum((a>0) * (b>0))\n",
    "    volumes = np.sum(a>0) + np.sum(b>0)\n",
    "\n",
    "    if volumes == 0:\n",
    "        return -1\n",
    "\n",
    "    return 2.*float(intersection) / float(volumes)\n",
    "\n",
    "def Jaccard3d(a, b):\n",
    "    \"\"\"\n",
    "    This will compute the Jaccard Similarity coefficient for two 3-dimensional volumes\n",
    "    Volumes are expected to be of the same size. We are expecting binary masks - \n",
    "    0's are treated as background and anything else is counted as data\n",
    "\n",
    "    Arguments:\n",
    "        a {Numpy array} -- 3D array with first volume\n",
    "        b {Numpy array} -- 3D array with second volume\n",
    "\n",
    "    Returns:\n",
    "        float\n",
    "    \"\"\"\n",
    "    if len(a.shape) != 3 or len(b.shape) != 3:\n",
    "        raise Exception(f\"Expecting 3 dimensional inputs, got {a.shape} and {b.shape}\")\n",
    "\n",
    "    if a.shape != b.shape:\n",
    "        raise Exception(f\"Expecting inputs of the same shape, got {a.shape} and {b.shape}\")\n",
    "        \n",
    "    intersection = np.sum((a>0) * (b>0))\n",
    "    union = np.sum(((a>0) + (b>0))>0)\n",
    "    \n",
    "    if union == 0:\n",
    "        return -1\n",
    "    \n",
    "    return float(intersection) / float(union)"
   ]
  },
  {
   "cell_type": "markdown",
   "metadata": {},
   "source": [
    "## HippocampusDatasetLoader"
   ]
  },
  {
   "cell_type": "code",
   "execution_count": 5,
   "metadata": {},
   "outputs": [],
   "source": [
    "def LoadHippocampusData(root_dir, y_shape, z_shape):\n",
    "    '''\n",
    "    This function loads our dataset form disk into memory,\n",
    "    reshaping output to common size\n",
    "\n",
    "    Arguments:\n",
    "        volume {Numpy array} -- 3D array representing the volume\n",
    "\n",
    "    Returns:\n",
    "        Array of dictionaries with data stored in seg and image fields as \n",
    "        Numpy arrays of shape [AXIAL_WIDTH, Y_SHAPE, Z_SHAPE]\n",
    "    '''\n",
    "\n",
    "    image_dir = join(root_dir, 'images')\n",
    "    label_dir = join(root_dir, 'labels')\n",
    "\n",
    "    images = [f for f in listdir(image_dir) if (\n",
    "        isfile(join(image_dir, f)) and f[0] != \".\")]\n",
    "\n",
    "    out = []\n",
    "    for f in images:\n",
    "        image, _ = load(join(image_dir, f))\n",
    "        label, _ = load(join(label_dir, f))\n",
    "\n",
    "        # normalize all images (but not labels) so that values are in [0..1] range\n",
    "        image = image / np.max(image)\n",
    "\n",
    "        # reshape data since CNN tensors need to be of the same size.\n",
    "        # since I will feed individual slices to the CNN, I only need to extend 2 dimensions (coronal and sagittal) out of 3 \n",
    "        image = med_reshape(image, new_shape=(image.shape[0], y_shape, z_shape))\n",
    "        \n",
    "        # cast label to int to get distinct class of labels \n",
    "        label = med_reshape(label, new_shape=(label.shape[0], y_shape, z_shape)).astype(int)\n",
    "        \n",
    "        out.append({\"image\": image, \"seg\": label, \"filename\": f})\n",
    "\n",
    "    # Hippocampus dataset only takes about 300 Mb RAM, so we can afford to keep it all in RAM\n",
    "    print(f\"Processed {len(out)} files, total {sum([x['image'].shape[0] for x in out])} slices\")\n",
    "    return np.array(out)"
   ]
  },
  {
   "cell_type": "code",
   "execution_count": 6,
   "metadata": {},
   "outputs": [
    {
     "name": "stdout",
     "output_type": "stream",
     "text": [
      "Processed 260 files, total 9198 slices\n"
     ]
    }
   ],
   "source": [
    "root_dir = r\"../data\"\n",
    "patch_size = 64\n",
    "data = LoadHippocampusData(root_dir, y_shape = patch_size, z_shape = patch_size)"
   ]
  },
  {
   "cell_type": "code",
   "execution_count": 7,
   "metadata": {},
   "outputs": [
    {
     "data": {
      "text/plain": [
       "((34, 64, 64), (34, 64, 64), (34, 64, 64), (34, 64, 64))"
      ]
     },
     "execution_count": 7,
     "metadata": {},
     "output_type": "execute_result"
    }
   ],
   "source": [
    "image_4 = data[4]['image']\n",
    "seg_4 = data[4]['seg']\n",
    "image_5 = data[5]['image']\n",
    "seg_5 = data[5]['seg']\n",
    "image_4.shape, seg_4.shape, image_5.shape, seg_5.shape"
   ]
  },
  {
   "cell_type": "code",
   "execution_count": 8,
   "metadata": {},
   "outputs": [
    {
     "data": {
      "text/plain": [
       "(0.5373763580347009, 0.3674057649667406)"
      ]
     },
     "execution_count": 8,
     "metadata": {},
     "output_type": "execute_result"
    }
   ],
   "source": [
    "Dice3d(data[4]['seg'], data[5]['seg']), Jaccard3d(data[4]['seg'], data[5]['seg'])"
   ]
  },
  {
   "cell_type": "code",
   "execution_count": 9,
   "metadata": {
    "scrolled": true
   },
   "outputs": [],
   "source": [
    "def display_volume_slices(img, w, h):\n",
    "    plot_w = w\n",
    "    plot_h = h\n",
    "\n",
    "    # You can play with figsize parameter to adjust how large the images are\n",
    "    fig, ax = plt.subplots(plot_h, plot_w, figsize=[35,25])\n",
    "\n",
    "    for i in range(plot_w*plot_h):\n",
    "        plt_x = i % plot_w\n",
    "        plt_y = i // plot_w\n",
    "        if (i < len(img)):\n",
    "            ax[plt_y, plt_x].set_title(f\"slice {i}\")\n",
    "            ax[plt_y, plt_x].imshow(img[i, :, :], cmap='gray')\n",
    "        ax[plt_y, plt_x].axis(\"off\")\n",
    "\n",
    "    plt.show()"
   ]
  },
  {
   "cell_type": "code",
   "execution_count": 10,
   "metadata": {},
   "outputs": [
    {
     "data": {
      "image/png": "[encoded data removed]",
      "text/plain": [
       "<Figure size 2520x1800 with 35 Axes>"
      ]
     },
     "metadata": {
      "needs_background": "light"
     },
     "output_type": "display_data"
    }
   ],
   "source": [
    "display_volume_slices(seg_4, 7, 5)"
   ]
  },
  {
   "cell_type": "code",
   "execution_count": 11,
   "metadata": {},
   "outputs": [
    {
     "data": {
      "image/png": "[encoded data removed]",
      "text/plain": [
       "<Figure size 2520x1800 with 35 Axes>"
      ]
     },
     "metadata": {
      "needs_background": "light"
     },
     "output_type": "display_data"
    }
   ],
   "source": [
    "display_volume_slices(seg_5, 7, 5)"
   ]
  },
  {
   "cell_type": "markdown",
   "metadata": {},
   "source": [
    "## SlicesDataset"
   ]
  },
  {
   "cell_type": "code",
   "execution_count": 12,
   "metadata": {},
   "outputs": [],
   "source": [
    "class SlicesDataset(Dataset):\n",
    "    \"\"\"\n",
    "    This class represents an indexable Torch dataset\n",
    "    which could be consumed by the PyTorch DataLoader class\n",
    "    \"\"\"\n",
    "    def __init__(self, data):\n",
    "        self.data = data\n",
    "\n",
    "        self.slices = []\n",
    "\n",
    "        for i, d in enumerate(data):\n",
    "            for j in range(d[\"image\"].shape[0]):\n",
    "                self.slices.append((i, j))\n",
    "\n",
    "    def __getitem__(self, idx):\n",
    "        \"\"\"\n",
    "        This method is called by PyTorch DataLoader class to return a sample with id idx\n",
    "\n",
    "        Arguments: \n",
    "            idx {int} -- id of sample\n",
    "\n",
    "        Returns:\n",
    "            Dictionary of 2 Torch Tensors of dimensions [1, W, H]\n",
    "        \"\"\"\n",
    "        slc = self.slices[idx]\n",
    "        sample = dict()\n",
    "        sample[\"id\"] = idx\n",
    "        \n",
    "        # create two new keys in the \"sample\" dictionary, \"image\" and \"seg\"\n",
    "        i, j = slc\n",
    "        sample['image'] = torch.from_numpy(self.data[i]['image'][j, :, :][None, :]).type(torch.FloatTensor)\n",
    "        sample['seg'] = torch.from_numpy(self.data[i]['seg'][j, :, :][None, :])\n",
    "\n",
    "        return sample\n",
    "\n",
    "    def __len__(self):\n",
    "        \"\"\"\n",
    "        This method is called by PyTorch DataLoader class to return number of samples in the dataset\n",
    "\n",
    "        Returns:\n",
    "            int\n",
    "        \"\"\"\n",
    "        return len(self.slices)"
   ]
  },
  {
   "cell_type": "code",
   "execution_count": 13,
   "metadata": {},
   "outputs": [],
   "source": [
    "split = dict()\n",
    "n = len(data)\n",
    "split['train'], split['val'], split['test'] = np.split(list(range(n)),[int(n * 0.7),int(n * 0.85)]) "
   ]
  },
  {
   "cell_type": "code",
   "execution_count": 14,
   "metadata": {},
   "outputs": [
    {
     "data": {
      "text/plain": [
       "((260,), (182,), (39,), (39,))"
      ]
     },
     "execution_count": 14,
     "metadata": {},
     "output_type": "execute_result"
    }
   ],
   "source": [
    "data.shape, data[split[\"train\"]].shape, data[split[\"test\"]].shape, data[split[\"val\"]].shape"
   ]
  },
  {
   "cell_type": "code",
   "execution_count": 15,
   "metadata": {},
   "outputs": [
    {
     "data": {
      "text/plain": [
       "6448"
      ]
     },
     "execution_count": 15,
     "metadata": {},
     "output_type": "execute_result"
    }
   ],
   "source": [
    "data_slice = SlicesDataset(data[split[\"train\"]])\n",
    "data_slice.__len__()"
   ]
  },
  {
   "cell_type": "code",
   "execution_count": 16,
   "metadata": {
    "scrolled": true
   },
   "outputs": [
    {
     "data": {
      "text/plain": [
       "(6448,\n",
       " [(181, 0),\n",
       "  (181, 1),\n",
       "  (181, 2),\n",
       "  (181, 3),\n",
       "  (181, 4),\n",
       "  (181, 5),\n",
       "  (181, 6),\n",
       "  (181, 7),\n",
       "  (181, 8),\n",
       "  (181, 9),\n",
       "  (181, 10),\n",
       "  (181, 11),\n",
       "  (181, 12),\n",
       "  (181, 13),\n",
       "  (181, 14),\n",
       "  (181, 15),\n",
       "  (181, 16),\n",
       "  (181, 17),\n",
       "  (181, 18),\n",
       "  (181, 19),\n",
       "  (181, 20),\n",
       "  (181, 21),\n",
       "  (181, 22),\n",
       "  (181, 23),\n",
       "  (181, 24),\n",
       "  (181, 25),\n",
       "  (181, 26),\n",
       "  (181, 27),\n",
       "  (181, 28),\n",
       "  (181, 29),\n",
       "  (181, 30),\n",
       "  (181, 31)])"
      ]
     },
     "execution_count": 16,
     "metadata": {},
     "output_type": "execute_result"
    }
   ],
   "source": [
    "len(data_slice.slices), data_slice.slices[-32:]"
   ]
  },
  {
   "cell_type": "code",
   "execution_count": 17,
   "metadata": {},
   "outputs": [
    {
     "data": {
      "text/plain": [
       "(torch.Size([1, 64, 64]), torch.Size([1, 64, 64]))"
      ]
     },
     "execution_count": 17,
     "metadata": {},
     "output_type": "execute_result"
    }
   ],
   "source": [
    "slice_6432 = data_slice.__getitem__(6432)\n",
    "slice_6432['image'].shape, slice_6432['seg'].shape"
   ]
  },
  {
   "cell_type": "code",
   "execution_count": 18,
   "metadata": {},
   "outputs": [
    {
     "data": {
      "text/plain": [
       "(tensor(0.1287), tensor(0.5861), tensor(0.))"
      ]
     },
     "execution_count": 18,
     "metadata": {},
     "output_type": "execute_result"
    }
   ],
   "source": [
    "slice_6432['image'].mean(), slice_6432['image'].max(), slice_6432['image'].min()"
   ]
  },
  {
   "cell_type": "code",
   "execution_count": 19,
   "metadata": {},
   "outputs": [
    {
     "data": {
      "text/plain": [
       "(tensor(197), tensor(276))"
      ]
     },
     "execution_count": 19,
     "metadata": {},
     "output_type": "execute_result"
    }
   ],
   "source": [
    "(slice_6432['seg'] > 0).sum(), slice_6432['seg'].sum()"
   ]
  },
  {
   "cell_type": "code",
   "execution_count": 20,
   "metadata": {},
   "outputs": [
    {
     "data": {
      "text/plain": [
       "<matplotlib.image.AxesImage at 0x7fa9213979d0>"
      ]
     },
     "execution_count": 20,
     "metadata": {},
     "output_type": "execute_result"
    },
    {
     "data": {
      "image/png": "[encoded data removed]",
      "text/plain": [
       "<Figure size 432x288 with 1 Axes>"
      ]
     },
     "metadata": {
      "needs_background": "light"
     },
     "output_type": "display_data"
    }
   ],
   "source": [
    "plt.imshow(slice_6432['image'][0], cmap='gray')"
   ]
  },
  {
   "cell_type": "code",
   "execution_count": 21,
   "metadata": {},
   "outputs": [
    {
     "data": {
      "text/plain": [
       "<matplotlib.image.AxesImage at 0x7fa8acc2e880>"
      ]
     },
     "execution_count": 21,
     "metadata": {},
     "output_type": "execute_result"
    },
    {
     "data": {
      "image/png": "[encoded data removed]",
      "text/plain": [
       "<Figure size 432x288 with 1 Axes>"
      ]
     },
     "metadata": {
      "needs_background": "light"
     },
     "output_type": "display_data"
    }
   ],
   "source": [
    "plt.imshow(slice_6432['seg'][0], cmap='gray')"
   ]
  },
  {
   "cell_type": "markdown",
   "metadata": {},
   "source": [
    "## RecursiveUNet"
   ]
  },
  {
   "cell_type": "code",
   "execution_count": 22,
   "metadata": {},
   "outputs": [],
   "source": [
    "class UNet(nn.Module):\n",
    "    def __init__(self, num_classes=3, in_channels=1, initial_filter_size=64, kernel_size=3, num_downs=4, norm_layer=nn.InstanceNorm2d):\n",
    "        # norm_layer=nn.BatchNorm2d, use_dropout=False):\n",
    "        super(UNet, self).__init__()\n",
    "\n",
    "        # construct unet structure\n",
    "        unet_block = UnetSkipConnectionBlock(in_channels=initial_filter_size * 2 ** (num_downs-1), out_channels=initial_filter_size * 2 ** num_downs,\n",
    "                                             num_classes=num_classes, kernel_size=kernel_size, norm_layer=norm_layer, innermost=True)\n",
    "        for i in range(1, num_downs):\n",
    "            unet_block = UnetSkipConnectionBlock(in_channels=initial_filter_size * 2 ** (num_downs-(i+1)),\n",
    "                                                 out_channels=initial_filter_size * 2 ** (num_downs-i),\n",
    "                                                 num_classes=num_classes, kernel_size=kernel_size, submodule=unet_block, norm_layer=norm_layer)\n",
    "        unet_block = UnetSkipConnectionBlock(in_channels=in_channels, out_channels=initial_filter_size,\n",
    "                                             num_classes=num_classes, kernel_size=kernel_size, submodule=unet_block, norm_layer=norm_layer,\n",
    "                                             outermost=True)\n",
    "\n",
    "        self.model = unet_block\n",
    "\n",
    "    def forward(self, x):\n",
    "        return self.model(x)\n",
    "\n",
    "\n",
    "# Defines the submodule with skip connection.\n",
    "# X -------------------identity---------------------- X\n",
    "#   |-- downsampling -- |submodule| -- upsampling --|\n",
    "class UnetSkipConnectionBlock(nn.Module):\n",
    "    def __init__(self, in_channels=None, out_channels=None, num_classes=1, kernel_size=3,\n",
    "                 submodule=None, outermost=False, innermost=False, norm_layer=nn.InstanceNorm2d, use_dropout=False):\n",
    "        super(UnetSkipConnectionBlock, self).__init__()\n",
    "        self.outermost = outermost\n",
    "        # downconv\n",
    "        pool = nn.MaxPool2d(2, stride=2)\n",
    "        conv1 = self.contract(in_channels=in_channels, out_channels=out_channels, kernel_size=kernel_size, norm_layer=norm_layer)\n",
    "        conv2 = self.contract(in_channels=out_channels, out_channels=out_channels, kernel_size=kernel_size, norm_layer=norm_layer)\n",
    "\n",
    "        # upconv\n",
    "        conv3 = self.expand(in_channels=out_channels*2, out_channels=out_channels, kernel_size=kernel_size)\n",
    "        conv4 = self.expand(in_channels=out_channels, out_channels=out_channels, kernel_size=kernel_size)\n",
    "\n",
    "        if outermost:\n",
    "            final = nn.Conv2d(out_channels, num_classes, kernel_size=1)\n",
    "            down = [conv1, conv2]\n",
    "            up = [conv3, conv4, final]\n",
    "            model = down + [submodule] + up\n",
    "        elif innermost:\n",
    "            upconv = nn.ConvTranspose2d(in_channels*2, in_channels,\n",
    "                                        kernel_size=2, stride=2)\n",
    "            model = [pool, conv1, conv2, upconv]\n",
    "        else:\n",
    "            upconv = nn.ConvTranspose2d(in_channels*2, in_channels, kernel_size=2, stride=2)\n",
    "\n",
    "            down = [pool, conv1, conv2]\n",
    "            up = [conv3, conv4, upconv]\n",
    "\n",
    "            if use_dropout:\n",
    "                model = down + [submodule] + up + [nn.Dropout(0.5)]\n",
    "            else:\n",
    "                model = down + [submodule] + up\n",
    "\n",
    "        self.model = nn.Sequential(*model)\n",
    "\n",
    "    @staticmethod\n",
    "    def contract(in_channels, out_channels, kernel_size=3, norm_layer=nn.InstanceNorm2d):\n",
    "        layer = nn.Sequential(\n",
    "            nn.Conv2d(in_channels, out_channels, kernel_size, padding=1),\n",
    "            norm_layer(out_channels),\n",
    "            nn.LeakyReLU(inplace=True))\n",
    "        return layer\n",
    "\n",
    "    @staticmethod\n",
    "    def expand(in_channels, out_channels, kernel_size=3):\n",
    "        layer = nn.Sequential(\n",
    "            nn.Conv2d(in_channels, out_channels, kernel_size, padding=1),\n",
    "            nn.LeakyReLU(inplace=True),\n",
    "        )\n",
    "        return layer\n",
    "\n",
    "    @staticmethod\n",
    "    def center_crop(layer, target_width, target_height):\n",
    "        batch_size, n_channels, layer_width, layer_height = layer.size()\n",
    "        xy1 = (layer_width - target_width) // 2\n",
    "        xy2 = (layer_height - target_height) // 2\n",
    "        return layer[:, :, xy1:(xy1 + target_width), xy2:(xy2 + target_height)]\n",
    "\n",
    "    def forward(self, x):\n",
    "        if self.outermost:\n",
    "            return self.model(x)\n",
    "        else:\n",
    "            crop = self.center_crop(self.model(x), x.size()[2], x.size()[3])\n",
    "            return torch.cat([x, crop], 1)"
   ]
  },
  {
   "cell_type": "code",
   "execution_count": 23,
   "metadata": {},
   "outputs": [],
   "source": [
    "unet = UNet()"
   ]
  },
  {
   "cell_type": "code",
   "execution_count": 24,
   "metadata": {},
   "outputs": [
    {
     "data": {
      "text/plain": [
       "(torch.Size([8, 1, 64, 64]), torch.Size([8, 1, 64, 64]))"
      ]
     },
     "execution_count": 24,
     "metadata": {},
     "output_type": "execute_result"
    }
   ],
   "source": [
    "train_data = DataLoader(SlicesDataset(data[split[\"train\"]]),batch_size=8, shuffle=True, num_workers=0)\n",
    "for x in train_data:\n",
    "    batch = x\n",
    "    break\n",
    "slice_tensor = batch['image']\n",
    "target = batch['seg']\n",
    "slice_tensor.shape, target.shape"
   ]
  },
  {
   "cell_type": "code",
   "execution_count": 25,
   "metadata": {},
   "outputs": [
    {
     "data": {
      "text/plain": [
       "torch.Size([8, 64, 64])"
      ]
     },
     "execution_count": 25,
     "metadata": {},
     "output_type": "execute_result"
    }
   ],
   "source": [
    "target[:, 0, :, :].shape"
   ]
  },
  {
   "cell_type": "code",
   "execution_count": 26,
   "metadata": {},
   "outputs": [
    {
     "name": "stdout",
     "output_type": "stream",
     "text": [
      "torch.Size([8, 3, 64, 64])\n"
     ]
    },
    {
     "data": {
      "text/plain": [
       "tensor([[[-0.1213, -0.0986, -0.0741,  ..., -0.0724, -0.0692, -0.0736],\n",
       "         [-0.0702, -0.0477, -0.0552,  ..., -0.0660, -0.0457, -0.0640],\n",
       "         [-0.1051, -0.0639, -0.0610,  ..., -0.0619, -0.0470, -0.0657],\n",
       "         ...,\n",
       "         [-0.0833, -0.0573, -0.0543,  ..., -0.0541, -0.0413, -0.0648],\n",
       "         [-0.0980, -0.0712, -0.0824,  ..., -0.0782, -0.0593, -0.0617],\n",
       "         [-0.0807, -0.0631, -0.0696,  ..., -0.0651, -0.0521, -0.0626]],\n",
       "\n",
       "        [[-0.0155,  0.0022, -0.0326,  ..., -0.0340, -0.0302, -0.0291],\n",
       "         [-0.0353, -0.0212, -0.0069,  ..., -0.0214, -0.0408, -0.0323],\n",
       "         [-0.0510, -0.0076, -0.0173,  ..., -0.0157, -0.0182, -0.0210],\n",
       "         ...,\n",
       "         [-0.0164, -0.0322, -0.0293,  ..., -0.0258, -0.0273, -0.0130],\n",
       "         [-0.0106, -0.0008, -0.0078,  ..., -0.0007, -0.0007, -0.0077],\n",
       "         [-0.0140, -0.0194, -0.0178,  ..., -0.0142, -0.0156, -0.0160]],\n",
       "\n",
       "        [[ 0.0862,  0.0833,  0.0881,  ...,  0.1067,  0.0967,  0.1098],\n",
       "         [ 0.0306,  0.0639,  0.1279,  ...,  0.1026,  0.1029,  0.0857],\n",
       "         [ 0.0681,  0.0635,  0.0789,  ...,  0.1157,  0.1051,  0.0918],\n",
       "         ...,\n",
       "         [ 0.1172,  0.1009,  0.1128,  ...,  0.1295,  0.1085,  0.1031],\n",
       "         [ 0.1207,  0.1081,  0.1156,  ...,  0.1149,  0.1146,  0.0914],\n",
       "         [ 0.1133,  0.1038,  0.1015,  ...,  0.1099,  0.0974,  0.0965]]],\n",
       "       grad_fn=<SliceBackward>)"
      ]
     },
     "execution_count": 26,
     "metadata": {},
     "output_type": "execute_result"
    }
   ],
   "source": [
    "prediction = unet(slice_tensor)\n",
    "print(prediction.shape)\n",
    "prediction[0, :, :, :]"
   ]
  },
  {
   "cell_type": "code",
   "execution_count": 27,
   "metadata": {
    "scrolled": true
   },
   "outputs": [
    {
     "name": "stdout",
     "output_type": "stream",
     "text": [
      "torch.Size([8, 3, 64, 64])\n"
     ]
    },
    {
     "data": {
      "text/plain": [
       "tensor([[[0.2992, 0.3025, 0.3107,  ..., 0.3091, 0.3105, 0.3080],\n",
       "         [0.3183, 0.3180, 0.3076,  ..., 0.3097, 0.3159, 0.3131],\n",
       "         [0.3082, 0.3131, 0.3130,  ..., 0.3085, 0.3131, 0.3109],\n",
       "         ...,\n",
       "         [0.3038, 0.3128, 0.3118,  ..., 0.3096, 0.3149, 0.3090],\n",
       "         [0.2998, 0.3059, 0.3033,  ..., 0.3036, 0.3077, 0.3105],\n",
       "         [0.3046, 0.3100, 0.3087,  ..., 0.3083, 0.3127, 0.3105]],\n",
       "\n",
       "        [[0.3326, 0.3346, 0.3239,  ..., 0.3212, 0.3229, 0.3220],\n",
       "         [0.3296, 0.3265, 0.3229,  ..., 0.3238, 0.3175, 0.3232],\n",
       "         [0.3253, 0.3312, 0.3270,  ..., 0.3231, 0.3223, 0.3251],\n",
       "         ...,\n",
       "         [0.3249, 0.3208, 0.3197,  ..., 0.3185, 0.3193, 0.3255],\n",
       "         [0.3272, 0.3282, 0.3269,  ..., 0.3281, 0.3262, 0.3277],\n",
       "         [0.3256, 0.3238, 0.3251,  ..., 0.3244, 0.3243, 0.3254]],\n",
       "\n",
       "        [[0.3682, 0.3629, 0.3654,  ..., 0.3697, 0.3666, 0.3700],\n",
       "         [0.3521, 0.3555, 0.3695,  ..., 0.3665, 0.3666, 0.3637],\n",
       "         [0.3665, 0.3557, 0.3600,  ..., 0.3685, 0.3646, 0.3639],\n",
       "         ...,\n",
       "         [0.3713, 0.3664, 0.3685,  ..., 0.3720, 0.3658, 0.3655],\n",
       "         [0.3731, 0.3659, 0.3698,  ..., 0.3683, 0.3661, 0.3618],\n",
       "         [0.3698, 0.3662, 0.3663,  ..., 0.3673, 0.3631, 0.3641]]],\n",
       "       grad_fn=<SliceBackward>)"
      ]
     },
     "execution_count": 27,
     "metadata": {},
     "output_type": "execute_result"
    }
   ],
   "source": [
    "prediction_softmax = F.softmax(prediction, dim=1)\n",
    "print(prediction_softmax.shape)\n",
    "prediction_softmax[0, :, :, :]"
   ]
  },
  {
   "cell_type": "code",
   "execution_count": 28,
   "metadata": {},
   "outputs": [
    {
     "data": {
      "text/plain": [
       "<matplotlib.image.AxesImage at 0x7fa8ac483fa0>"
      ]
     },
     "execution_count": 28,
     "metadata": {},
     "output_type": "execute_result"
    },
    {
     "data": {
      "image/png": "[encoded data removed]",
      "text/plain": [
       "<Figure size 432x288 with 1 Axes>"
      ]
     },
     "metadata": {
      "needs_background": "light"
     },
     "output_type": "display_data"
    }
   ],
   "source": [
    "plt.imshow(torch.argmax(np.squeeze(prediction[0, :, :, :].cpu().detach()), dim=0), cmap='gray')"
   ]
  },
  {
   "cell_type": "code",
   "execution_count": 29,
   "metadata": {},
   "outputs": [
    {
     "data": {
      "text/plain": [
       "<matplotlib.image.AxesImage at 0x7fa8acd9e160>"
      ]
     },
     "execution_count": 29,
     "metadata": {},
     "output_type": "execute_result"
    },
    {
     "data": {
      "image/png": "[encoded data removed]",
      "text/plain": [
       "<Figure size 432x288 with 1 Axes>"
      ]
     },
     "metadata": {
      "needs_background": "light"
     },
     "output_type": "display_data"
    }
   ],
   "source": [
    "plt.imshow(torch.argmax(np.squeeze(prediction_softmax[0, :, :, :].cpu().detach()), dim=0), cmap='gray')"
   ]
  },
  {
   "cell_type": "code",
   "execution_count": 30,
   "metadata": {},
   "outputs": [
    {
     "data": {
      "text/plain": [
       "<matplotlib.image.AxesImage at 0x7fa8ad1890d0>"
      ]
     },
     "execution_count": 30,
     "metadata": {},
     "output_type": "execute_result"
    },
    {
     "data": {
      "image/png": "[encoded data removed]",
      "text/plain": [
       "<Figure size 432x288 with 1 Axes>"
      ]
     },
     "metadata": {
      "needs_background": "light"
     },
     "output_type": "display_data"
    }
   ],
   "source": [
    "plt.imshow(target[0, 0, :, :], cmap='gray')"
   ]
  },
  {
   "cell_type": "code",
   "execution_count": 31,
   "metadata": {},
   "outputs": [
    {
     "data": {
      "text/plain": [
       "tensor(1.1229, grad_fn=<NllLoss2DBackward>)"
      ]
     },
     "execution_count": 31,
     "metadata": {},
     "output_type": "execute_result"
    }
   ],
   "source": [
    "loss = torch.nn.CrossEntropyLoss()(prediction_softmax, target[:, 0, :, :])\n",
    "loss"
   ]
  },
  {
   "cell_type": "markdown",
   "metadata": {},
   "source": [
    "## UNetInferenceAgent"
   ]
  },
  {
   "cell_type": "code",
   "execution_count": 32,
   "metadata": {},
   "outputs": [],
   "source": [
    "class UNetInferenceAgent:\n",
    "    \"\"\"\n",
    "    Stores model and parameters and some methods to handle inferencing\n",
    "    \"\"\"\n",
    "    def __init__(self, parameter_file_path='', model=None, device=\"cpu\", patch_size=64):\n",
    "\n",
    "        self.model = model\n",
    "        self.patch_size = patch_size\n",
    "        self.device = device\n",
    "\n",
    "        if model is None:\n",
    "            self.model = UNet(num_classes=3)\n",
    "\n",
    "        if parameter_file_path:\n",
    "            self.model.load_state_dict(torch.load(parameter_file_path, map_location=self.device))\n",
    "\n",
    "        self.model.to(device)\n",
    "\n",
    "    def single_volume_inference(self, volume):\n",
    "        \"\"\"\n",
    "        Runs inference on a single volume of conformant patch size\n",
    "\n",
    "        Arguments:\n",
    "            volume {Numpy array} -- 3D array representing the volume\n",
    "\n",
    "        Returns:\n",
    "            3D NumPy array with prediction mask\n",
    "        \"\"\"\n",
    "        self.model.eval()\n",
    "\n",
    "        # volume is a numpy array of shape [X,Y,Z] and I will slice X axis\n",
    "        slices = []\n",
    "\n",
    "        # create mask for each slice across the X (0th) dimension. \n",
    "        # put all slices into a 3D Numpy array\n",
    "\n",
    "        for ix in range(0, volume.shape[0]):\n",
    "#             img = volume[ix,:,:]\n",
    "#             slc = img.astype(np.single)/np.max(img)\n",
    "#             slc_tensor = torch.from_numpy(slc).unsqueeze(0).unsqueeze(0).to(self.device)\n",
    "            slice_tensor = torch.from_numpy(volume[ix,:,:].astype(np.single)).unsqueeze(0).unsqueeze(0)\n",
    "            pred = self.model(slice_tensor.to(self.device))\n",
    "            mask = torch.argmax(np.squeeze(pred.cpu().detach()), dim=0)\n",
    "            slices.append(mask)\n",
    "        return np.dstack(slices).transpose(2, 0, 1)\n",
    "\n",
    "\n",
    "    \n",
    "    def single_volume_inference_unpadded(self, volume, patch_size):\n",
    "        \"\"\"\n",
    "        Runs inference on a single volume of arbitrary patch size,\n",
    "        padding it to the conformant size first\n",
    "\n",
    "        Arguments:\n",
    "            volume {Numpy array} -- 3D array representing the volume\n",
    "\n",
    "        Returns:\n",
    "            3D NumPy array with prediction mask\n",
    "        \"\"\"\n",
    "        \n",
    "        volume = med_reshape(volume, (volume.shape[0], patch_size, patch_size))\n",
    "        \n",
    "        return single_volume_inference(self, volume)"
   ]
  },
  {
   "cell_type": "markdown",
   "metadata": {},
   "source": [
    "## UNetExperiment"
   ]
  },
  {
   "cell_type": "code",
   "execution_count": 33,
   "metadata": {},
   "outputs": [],
   "source": [
    "def display_volume_slices(img, w, h):\n",
    "    plot_w = w\n",
    "    plot_h = h\n",
    "\n",
    "    # You can play with figsize parameter to adjust how large the images are\n",
    "    fig, ax = plt.subplots(plot_h, plot_w, figsize=[35,25])\n",
    "\n",
    "    for i in range(plot_w*plot_h):\n",
    "        plt_x = i % plot_w\n",
    "        plt_y = i // plot_w\n",
    "        if (i < len(img)):\n",
    "            ax[plt_y, plt_x].set_title(f\"slice {i}\")\n",
    "            ax[plt_y, plt_x].imshow(img[i,0, :, :], cmap='gray')\n",
    "        ax[plt_y, plt_x].axis(\"off\")\n",
    "\n",
    "    plt.show()"
   ]
  },
  {
   "cell_type": "code",
   "execution_count": 34,
   "metadata": {},
   "outputs": [],
   "source": [
    "class UNetExperiment:\n",
    "    \"\"\"\n",
    "    This class implements the basic life cycle for a segmentation task with UNet(https://arxiv.org/abs/1505.04597).\n",
    "    The basic life cycle of a UNetExperiment is:\n",
    "\n",
    "        run():\n",
    "            for epoch in n_epochs:\n",
    "                train()\n",
    "                validate()\n",
    "        test()\n",
    "    \"\"\"\n",
    "    def __init__(self, config, split, dataset):\n",
    "        self.n_epochs = config.n_epochs\n",
    "        self.split = split\n",
    "        self._time_start = \"\"\n",
    "        self._time_end = \"\"\n",
    "        self.epoch =1\n",
    "        self.name = config.name\n",
    "\n",
    "        # Create output folders\n",
    "        dirname = f'{time.strftime(\"%Y-%m-%d_%H%M\", time.gmtime())}_{self.name}'\n",
    "        self.out_dir = os.path.join(config.test_results_dir, dirname)\n",
    "        os.makedirs(self.out_dir, exist_ok=True)\n",
    "\n",
    "        # Create data loaders\n",
    "        self.train_loader = DataLoader(SlicesDataset(dataset[split[\"train\"]]),\n",
    "                batch_size=config.batch_size, shuffle=True, num_workers=0)\n",
    "        self.val_loader = DataLoader(SlicesDataset(dataset[split[\"val\"]]),\n",
    "                batch_size=config.batch_size, shuffle=True, num_workers=0)\n",
    "\n",
    "        # access volumes directly for testing\n",
    "        self.test_data = dataset[split[\"test\"]]\n",
    "\n",
    "        if not torch.cuda.is_available():\n",
    "            print(\"WARNING: No CUDA device is found. This may take significantly longer!\")\n",
    "        self.device = torch.device(\"cuda\" if torch.cuda.is_available() else \"cpu\")\n",
    "\n",
    "        # use a recursive UNet model from German Cancer Research Center, Division of Medical Image Computing\n",
    "        self.model = UNet()\n",
    "        self.model.to(self.device)\n",
    "\n",
    "        # use a standard cross-entropy loss since the model output is essentially\n",
    "        # a tensor with softmax prediction of each pixel's probability of belonging to a certain class\n",
    "        self.loss_function = torch.nn.CrossEntropyLoss()\n",
    "\n",
    "        # use standard SGD method to optimize the weights\n",
    "        self.optimizer = optim.Adam(self.model.parameters(), lr=config.learning_rate)\n",
    "        \n",
    "        # Scheduler helps to update learning rate automatically\n",
    "        self.scheduler = optim.lr_scheduler.ReduceLROnPlateau(self.optimizer, 'min')\n",
    "\n",
    "        # Set up Tensorboard. By default it saves data into runs folder. You need to launch\n",
    "        self.tensorboard_train_writer = SummaryWriter(comment=\"_train\")\n",
    "        self.tensorboard_val_writer = SummaryWriter(comment=\"_val\")\n",
    "\n",
    "    def train(self):\n",
    "        \"\"\"\n",
    "        This method is executed once per epoch and takes \n",
    "        care of model weight update cycle\n",
    "        \"\"\"\n",
    "        print(f\"Training epoch {self.epoch}...\")\n",
    "        self.model.train()\n",
    "\n",
    "        # Loop over the minibatches\n",
    "        for i, batch in enumerate(self.train_loader):\n",
    "            self.optimizer.zero_grad()\n",
    "\n",
    "            # Feed data to the model and feed target to the loss function\n",
    "#             display_volume_slices(batch['image'], 4, 2)\n",
    "#             display_volume_slices(batch['seg'], 4, 2)            \n",
    "            data = batch['image'].to(self.device)\n",
    "            target = batch['seg'].to(self.device)\n",
    "            \n",
    "            prediction = self.model(data)\n",
    "            prediction_softmax = F.softmax(prediction, dim=1)\n",
    "            loss = self.loss_function(prediction_softmax, target[:, 0, :, :])\n",
    "\n",
    "            # What does each dimension of variable prediction represent?\n",
    "            # batch_size, 3 classes, coronal, axial\n",
    "\n",
    "            loss.backward()\n",
    "            self.optimizer.step()\n",
    "\n",
    "            if (i % 10) == 0:\n",
    "                # Output to console on every 10th batch\n",
    "                print(f\"\\nEpoch: {self.epoch} Batch: {i} Train loss: {loss}, {100*(i+1)/len(self.train_loader):.1f}% complete\")\n",
    "\n",
    "                counter = 100*self.epoch + 100*(i/len(self.train_loader))\n",
    "\n",
    "                log_to_tensorboard(\n",
    "                    self.tensorboard_train_writer,\n",
    "                    loss,\n",
    "                    data,\n",
    "                    target,\n",
    "                    prediction_softmax,\n",
    "                    prediction,\n",
    "                    counter)\n",
    "\n",
    "            print(\".\", end='')\n",
    "\n",
    "        print(\"\\nTraining complete\")\n",
    "\n",
    "    def validate(self):\n",
    "        \"\"\"\n",
    "        This method runs validation cycle, using same metrics as \n",
    "        Train method. Note that model needs to be switched to eval\n",
    "        mode and no_grad needs to be called so that gradients do not \n",
    "        propagate\n",
    "        \"\"\"\n",
    "        print(f\"Validating epoch {self.epoch}...\")\n",
    "\n",
    "        self.model.eval()\n",
    "        loss_list = []\n",
    "\n",
    "        with torch.no_grad():\n",
    "            for i, batch in enumerate(self.val_loader):              \n",
    "                data = batch['image'].to(self.device)\n",
    "                target = batch['seg'].to(self.device)\n",
    "                prediction = self.model(data)\n",
    "                prediction_softmax = F.softmax(prediction, dim=1)\n",
    "                loss = self.loss_function(prediction_softmax, target[:, 0, :, :])\n",
    "\n",
    "                print(f\"Batch {i}. Data shape {data.shape} Loss {loss}\")\n",
    "\n",
    "                loss_list.append(loss.item())\n",
    "\n",
    "        self.scheduler.step(np.mean(loss_list))\n",
    "\n",
    "        log_to_tensorboard(\n",
    "            self.tensorboard_val_writer,\n",
    "            np.mean(loss_list),\n",
    "            data,\n",
    "            target,\n",
    "            prediction_softmax, \n",
    "            prediction,\n",
    "            (self.epoch+1) * 100)\n",
    "        print(f\"Validation complete\")\n",
    "\n",
    "    def save_model_parameters(self):\n",
    "        \"\"\"\n",
    "        Saves model parameters to a file in results directory\n",
    "        \"\"\"\n",
    "        path = os.path.join(self.out_dir, \"model.pth\")\n",
    "\n",
    "        torch.save(self.model.state_dict(), path)\n",
    "\n",
    "    def load_model_parameters(self, path=''):\n",
    "        \"\"\"\n",
    "        Loads model parameters from a supplied path or a\n",
    "        results directory\n",
    "        \"\"\"\n",
    "        if not path:\n",
    "            model_path = os.path.join(self.out_dir, \"model.pth\")\n",
    "        else:\n",
    "            model_path = path\n",
    "\n",
    "        if os.path.exists(model_path):\n",
    "            self.model.load_state_dict(torch.load(model_path))\n",
    "        else:\n",
    "            raise Exception(f\"Could not find path {model_path}\")\n",
    "\n",
    "    def run_test(self):\n",
    "        \"\"\"\n",
    "        This runs test cycle on the test dataset.\n",
    "        Note that process and evaluations are quite different\n",
    "        Here we are computing a lot more metrics and returning\n",
    "        a dictionary that could later be persisted as JSON\n",
    "        \"\"\"\n",
    "        print(\"Testing...\")\n",
    "        self.model.eval()\n",
    "\n",
    "        inference_agent = UNetInferenceAgent(model=self.model, device=self.device)\n",
    "\n",
    "        out_dict = {}\n",
    "        out_dict[\"volume_stats\"] = []\n",
    "        dc_list = []\n",
    "        jc_list = []\n",
    "\n",
    "        # for every in test set\n",
    "        for i, x in enumerate(self.test_data):\n",
    "            pred_label = inference_agent.single_volume_inference(x[\"image\"])\n",
    "\n",
    "            dc = Dice3d(pred_label, x[\"seg\"])\n",
    "            jc = Jaccard3d(pred_label, x[\"seg\"])\n",
    "            dc_list.append(dc)\n",
    "            jc_list.append(jc)\n",
    "\n",
    "\n",
    "            out_dict[\"volume_stats\"].append({\n",
    "                \"filename\": x['filename'],\n",
    "                \"dice\": dc,\n",
    "                \"jaccard\": jc\n",
    "                })\n",
    "            print(f\"{x['filename']} Dice {dc:.4f}. {100*(i+1)/len(self.test_data):.2f}% complete\")\n",
    "\n",
    "        out_dict[\"overall\"] = {\n",
    "            \"mean_dice\": np.mean(dc_list),\n",
    "            \"mean_jaccard\": np.mean(jc_list)}\n",
    "\n",
    "        print(\"\\nTesting complete.\")\n",
    "        return out_dict\n",
    "\n",
    "    def run(self):\n",
    "        \"\"\"\n",
    "        Kicks off train cycle and writes model parameter file at the end\n",
    "        \"\"\"\n",
    "        self._time_start = time.time()\n",
    "\n",
    "        print(\"Experiment started.\")\n",
    "\n",
    "        # Iterate over epochs\n",
    "        for self.epoch in range(self.n_epochs):\n",
    "            self.train()\n",
    "            self.validate()\n",
    "\n",
    "        # save model for inferencing\n",
    "        self.save_model_parameters()\n",
    "\n",
    "        self._time_end = time.time()\n",
    "        print(f\"Run complete. Total time: {time.strftime('%H:%M:%S', time.gmtime(self._time_end - self._time_start))}\")"
   ]
  },
  {
   "cell_type": "code",
   "execution_count": 35,
   "metadata": {},
   "outputs": [
    {
     "name": "stdout",
     "output_type": "stream",
     "text": [
      "Loading data...\n",
      "Processed 260 files, total 9198 slices\n",
      "Experiment started.\n",
      "Training epoch 0...\n",
      "\n",
      "Epoch: 0 Batch: 0 Train loss: 1.0895907878875732, 0.1% complete\n",
      "..........\n",
      "Epoch: 0 Batch: 10 Train loss: 0.5740869641304016, 1.4% complete\n",
      "..........\n",
      "Epoch: 0 Batch: 20 Train loss: 0.581321656703949, 2.6% complete\n",
      "..........\n",
      "Epoch: 0 Batch: 30 Train loss: 0.571891725063324, 3.8% complete\n",
      "..........\n",
      "Epoch: 0 Batch: 40 Train loss: 0.561088502407074, 5.1% complete\n",
      "..........\n",
      "Epoch: 0 Batch: 50 Train loss: 0.564659059047699, 6.3% complete\n",
      "..........\n",
      "Epoch: 0 Batch: 60 Train loss: 0.565788209438324, 7.6% complete\n",
      "..........\n",
      "Epoch: 0 Batch: 70 Train loss: 0.586387574672699, 8.8% complete\n",
      "..........\n",
      "Epoch: 0 Batch: 80 Train loss: 0.566429078578949, 10.0% complete\n",
      "..........\n",
      "Epoch: 0 Batch: 90 Train loss: 0.578971803188324, 11.3% complete\n",
      "..........\n",
      "Epoch: 0 Batch: 100 Train loss: 0.577873170375824, 12.5% complete\n",
      "..........\n",
      "Epoch: 0 Batch: 110 Train loss: 0.567100465297699, 13.8% complete\n",
      "..........\n",
      "Epoch: 0 Batch: 120 Train loss: 0.565330445766449, 15.0% complete\n",
      "..........\n",
      "Epoch: 0 Batch: 130 Train loss: 0.577018678188324, 16.3% complete\n",
      "..........\n",
      "Epoch: 0 Batch: 140 Train loss: 0.593254029750824, 17.5% complete\n",
      "..........\n",
      "Epoch: 0 Batch: 150 Train loss: 0.581382691860199, 18.7% complete\n",
      "..........\n",
      "Epoch: 0 Batch: 160 Train loss: 0.590385377407074, 20.0% complete\n",
      "..........\n",
      "Epoch: 0 Batch: 170 Train loss: 0.583213746547699, 21.2% complete\n",
      "..........\n",
      "Epoch: 0 Batch: 180 Train loss: 0.566642701625824, 22.5% complete\n",
      "..........\n",
      "Epoch: 0 Batch: 190 Train loss: 0.571494996547699, 23.7% complete\n",
      "..........\n",
      "Epoch: 0 Batch: 200 Train loss: 0.562400758266449, 24.9% complete\n",
      "..........\n",
      "Epoch: 0 Batch: 210 Train loss: 0.572410523891449, 26.2% complete\n",
      "..........\n",
      "Epoch: 0 Batch: 220 Train loss: 0.571342408657074, 27.4% complete\n",
      "..........\n",
      "Epoch: 0 Batch: 230 Train loss: 0.564140260219574, 28.7% complete\n",
      "..........\n",
      "Epoch: 0 Batch: 240 Train loss: 0.577995240688324, 29.9% complete\n",
      "..........\n",
      "Epoch: 0 Batch: 250 Train loss: 0.578178346157074, 31.1% complete\n",
      "..........\n",
      "Epoch: 0 Batch: 260 Train loss: 0.572441041469574, 32.4% complete\n",
      "..........\n",
      "Epoch: 0 Batch: 270 Train loss: 0.573692262172699, 33.6% complete\n",
      "..........\n",
      "Epoch: 0 Batch: 280 Train loss: 0.572257936000824, 34.9% complete\n",
      "..........\n",
      "Epoch: 0 Batch: 290 Train loss: 0.582755982875824, 36.1% complete\n",
      "..........\n",
      "Epoch: 0 Batch: 300 Train loss: 0.586906373500824, 37.3% complete\n",
      "..........\n",
      "Epoch: 0 Batch: 310 Train loss: 0.592521607875824, 38.6% complete\n",
      "..........\n",
      "Epoch: 0 Batch: 320 Train loss: 0.581291139125824, 39.8% complete\n",
      "..........\n",
      "Epoch: 0 Batch: 330 Train loss: 0.582420289516449, 41.1% complete\n",
      "..........\n",
      "Epoch: 0 Batch: 340 Train loss: 0.577995240688324, 42.3% complete\n",
      "..........\n",
      "Epoch: 0 Batch: 350 Train loss: 0.594566285610199, 43.5% complete\n",
      "..........\n",
      "Epoch: 0 Batch: 360 Train loss: 0.573905885219574, 44.8% complete\n",
      "..........\n",
      "Epoch: 0 Batch: 370 Train loss: 0.576469361782074, 46.0% complete\n",
      "..........\n",
      "Epoch: 0 Batch: 380 Train loss: 0.579673707485199, 47.3% complete\n",
      "..........\n",
      "Epoch: 0 Batch: 390 Train loss: 0.575767457485199, 48.5% complete\n",
      "..........\n",
      "Epoch: 0 Batch: 400 Train loss: 0.586662232875824, 49.8% complete\n",
      "..........\n",
      "Epoch: 0 Batch: 410 Train loss: 0.565483033657074, 51.0% complete\n",
      "..........\n",
      "Epoch: 0 Batch: 420 Train loss: 0.552452027797699, 52.2% complete\n",
      "..........\n",
      "Epoch: 0 Batch: 430 Train loss: 0.561363160610199, 53.5% complete\n",
      "..........\n",
      "Epoch: 0 Batch: 440 Train loss: 0.563041627407074, 54.7% complete\n",
      "..........\n",
      "Epoch: 0 Batch: 450 Train loss: 0.580558717250824, 56.0% complete\n",
      "..........\n",
      "Epoch: 0 Batch: 460 Train loss: 0.580284059047699, 57.2% complete\n",
      "..........\n",
      "Epoch: 0 Batch: 470 Train loss: 0.586296021938324, 58.4% complete\n",
      "..........\n",
      "Epoch: 0 Batch: 480 Train loss: 0.572837769985199, 59.7% complete\n",
      "..........\n",
      "Epoch: 0 Batch: 490 Train loss: 0.584678590297699, 60.9% complete\n",
      "..........\n",
      "Epoch: 0 Batch: 500 Train loss: 0.569847047328949, 62.2% complete\n",
      "..........\n",
      "Epoch: 0 Batch: 510 Train loss: 0.587638795375824, 63.4% complete\n",
      "..........\n",
      "Epoch: 0 Batch: 520 Train loss: 0.578269898891449, 64.6% complete\n",
      "..........\n",
      "Epoch: 0 Batch: 530 Train loss: 0.576988160610199, 65.9% complete\n",
      "..........\n",
      "Epoch: 0 Batch: 540 Train loss: 0.599510133266449, 67.1% complete\n",
      "..........\n",
      "Epoch: 0 Batch: 550 Train loss: 0.579246461391449, 68.4% complete\n",
      "..........\n",
      "Epoch: 0 Batch: 560 Train loss: 0.568778932094574, 69.6% complete\n",
      "..........\n",
      "Epoch: 0 Batch: 570 Train loss: 0.571922242641449, 70.8% complete\n",
      "..........\n",
      "Epoch: 0 Batch: 580 Train loss: 0.561881959438324, 72.1% complete\n",
      "..........\n",
      "Epoch: 0 Batch: 590 Train loss: 0.568107545375824, 73.3% complete\n",
      "..........\n",
      "Epoch: 0 Batch: 600 Train loss: 0.558830201625824, 74.6% complete\n",
      "..........\n",
      "Epoch: 0 Batch: 610 Train loss: 0.579185426235199, 75.8% complete\n",
      "..........\n",
      "Epoch: 0 Batch: 620 Train loss: 0.586173951625824, 77.0% complete\n",
      "..........\n",
      "Epoch: 0 Batch: 630 Train loss: 0.580589234828949, 78.3% complete\n",
      "..........\n",
      "Epoch: 0 Batch: 640 Train loss: 0.568565309047699, 79.5% complete\n",
      "..........\n",
      "Epoch: 0 Batch: 650 Train loss: 0.573387086391449, 80.8% complete\n",
      "..........\n",
      "Epoch: 0 Batch: 660 Train loss: 0.581260621547699, 82.0% complete\n",
      "..........\n",
      "Epoch: 0 Batch: 670 Train loss: 0.582420289516449, 83.3% complete\n",
      "..........\n",
      "Epoch: 0 Batch: 680 Train loss: 0.588798463344574, 84.5% complete\n",
      "..........\n",
      "Epoch: 0 Batch: 690 Train loss: 0.578117311000824, 85.7% complete\n",
      "..........\n",
      "Epoch: 0 Batch: 700 Train loss: 0.573051393032074, 87.0% complete\n",
      "..........\n",
      "Epoch: 0 Batch: 710 Train loss: 0.567680299282074, 88.2% complete\n",
      "..........\n",
      "Epoch: 0 Batch: 720 Train loss: 0.573722779750824, 89.5% complete\n",
      "..........\n",
      "Epoch: 0 Batch: 730 Train loss: 0.571189820766449, 90.7% complete\n",
      "..........\n",
      "Epoch: 0 Batch: 740 Train loss: 0.570213258266449, 91.9% complete\n",
      "..........\n",
      "Epoch: 0 Batch: 750 Train loss: 0.584556519985199, 93.2% complete\n",
      "..........\n",
      "Epoch: 0 Batch: 760 Train loss: 0.576530396938324, 94.4% complete\n",
      "..........\n",
      "Epoch: 0 Batch: 770 Train loss: 0.573020875453949, 95.7% complete\n",
      "..........\n",
      "Epoch: 0 Batch: 780 Train loss: 0.573570191860199, 96.9% complete\n",
      "..........\n",
      "Epoch: 0 Batch: 790 Train loss: 0.572868287563324, 98.1% complete\n",
      "..........\n",
      "Epoch: 0 Batch: 800 Train loss: 0.566123902797699, 99.4% complete\n",
      "......\n",
      "Training complete\n",
      "Validating epoch 0...\n",
      "Batch 0. Data shape torch.Size([8, 1, 64, 64]) Loss 0.573661744594574\n",
      "Batch 1. Data shape torch.Size([8, 1, 64, 64]) Loss 0.571281373500824\n",
      "Batch 2. Data shape torch.Size([8, 1, 64, 64]) Loss 0.568565309047699\n",
      "Batch 3. Data shape torch.Size([8, 1, 64, 64]) Loss 0.578880250453949\n",
      "Batch 4. Data shape torch.Size([8, 1, 64, 64]) Loss 0.591270387172699\n",
      "Batch 5. Data shape torch.Size([8, 1, 64, 64]) Loss 0.561729371547699\n",
      "Batch 6. Data shape torch.Size([8, 1, 64, 64]) Loss 0.581870973110199\n",
      "Batch 7. Data shape torch.Size([8, 1, 64, 64]) Loss 0.590263307094574\n",
      "Batch 8. Data shape torch.Size([8, 1, 64, 64]) Loss 0.587181031703949\n",
      "Batch 9. Data shape torch.Size([8, 1, 64, 64]) Loss 0.579246461391449\n",
      "Batch 10. Data shape torch.Size([8, 1, 64, 64]) Loss 0.577812135219574\n",
      "Batch 11. Data shape torch.Size([8, 1, 64, 64]) Loss 0.592491090297699\n",
      "Batch 12. Data shape torch.Size([8, 1, 64, 64]) Loss 0.569816529750824\n",
      "Batch 13. Data shape torch.Size([8, 1, 64, 64]) Loss 0.578941285610199\n",
      "Batch 14. Data shape torch.Size([8, 1, 64, 64]) Loss 0.567863404750824\n",
      "Batch 15. Data shape torch.Size([8, 1, 64, 64]) Loss 0.576347291469574\n",
      "Batch 16. Data shape torch.Size([8, 1, 64, 64]) Loss 0.564445436000824\n",
      "Batch 17. Data shape torch.Size([8, 1, 64, 64]) Loss 0.570426881313324\n",
      "Batch 18. Data shape torch.Size([8, 1, 64, 64]) Loss 0.582023561000824\n",
      "Batch 19. Data shape torch.Size([8, 1, 64, 64]) Loss 0.578727662563324\n",
      "Batch 20. Data shape torch.Size([8, 1, 64, 64]) Loss 0.569480836391449\n",
      "Batch 21. Data shape torch.Size([8, 1, 64, 64]) Loss 0.564262330532074\n",
      "Batch 22. Data shape torch.Size([8, 1, 64, 64]) Loss 0.564201295375824\n",
      "Batch 23. Data shape torch.Size([8, 1, 64, 64]) Loss 0.573051393032074\n",
      "Batch 24. Data shape torch.Size([8, 1, 64, 64]) Loss 0.558799684047699\n",
      "Batch 25. Data shape torch.Size([8, 1, 64, 64]) Loss 0.569908082485199\n",
      "Batch 26. Data shape torch.Size([8, 1, 64, 64]) Loss 0.568260133266449\n",
      "Batch 27. Data shape torch.Size([8, 1, 64, 64]) Loss 0.575157105922699\n",
      "Batch 28. Data shape torch.Size([8, 1, 64, 64]) Loss 0.569847047328949\n",
      "Batch 29. Data shape torch.Size([8, 1, 64, 64]) Loss 0.576682984828949\n",
      "Batch 30. Data shape torch.Size([8, 1, 64, 64]) Loss 0.570243775844574\n",
      "Batch 31. Data shape torch.Size([8, 1, 64, 64]) Loss 0.570335328578949\n",
      "Batch 32. Data shape torch.Size([8, 1, 64, 64]) Loss 0.572685182094574\n",
      "Batch 33. Data shape torch.Size([8, 1, 64, 64]) Loss 0.572288453578949\n",
      "Batch 34. Data shape torch.Size([8, 1, 64, 64]) Loss 0.572105348110199\n",
      "Batch 35. Data shape torch.Size([8, 1, 64, 64]) Loss 0.564720094203949\n",
      "Batch 36. Data shape torch.Size([8, 1, 64, 64]) Loss 0.568046510219574\n",
      "Batch 37. Data shape torch.Size([8, 1, 64, 64]) Loss 0.572380006313324\n",
      "Batch 38. Data shape torch.Size([8, 1, 64, 64]) Loss 0.579643189907074\n",
      "Batch 39. Data shape torch.Size([8, 1, 64, 64]) Loss 0.571250855922699\n",
      "Batch 40. Data shape torch.Size([8, 1, 64, 64]) Loss 0.567588746547699\n",
      "Batch 41. Data shape torch.Size([8, 1, 64, 64]) Loss 0.581779420375824\n",
      "Batch 42. Data shape torch.Size([8, 1, 64, 64]) Loss 0.582939088344574\n",
      "Batch 43. Data shape torch.Size([8, 1, 64, 64]) Loss 0.567588746547699\n",
      "Batch 44. Data shape torch.Size([8, 1, 64, 64]) Loss 0.578514039516449\n",
      "Batch 45. Data shape torch.Size([8, 1, 64, 64]) Loss 0.582084596157074\n",
      "Batch 46. Data shape torch.Size([8, 1, 64, 64]) Loss 0.573814332485199\n",
      "Batch 47. Data shape torch.Size([8, 1, 64, 64]) Loss 0.573783814907074\n",
      "Batch 48. Data shape torch.Size([8, 1, 64, 64]) Loss 0.561332643032074\n",
      "Batch 49. Data shape torch.Size([8, 1, 64, 64]) Loss 0.574607789516449\n",
      "Batch 50. Data shape torch.Size([8, 1, 64, 64]) Loss 0.558799684047699\n",
      "Batch 51. Data shape torch.Size([8, 1, 64, 64]) Loss 0.571464478969574\n",
      "Batch 52. Data shape torch.Size([8, 1, 64, 64]) Loss 0.583274781703949\n",
      "Batch 53. Data shape torch.Size([8, 1, 64, 64]) Loss 0.568504273891449\n",
      "Batch 54. Data shape torch.Size([8, 1, 64, 64]) Loss 0.575981080532074\n",
      "Batch 55. Data shape torch.Size([8, 1, 64, 64]) Loss 0.575370728969574\n",
      "Batch 56. Data shape torch.Size([8, 1, 64, 64]) Loss 0.580436646938324\n",
      "Batch 57. Data shape torch.Size([8, 1, 64, 64]) Loss 0.574180543422699\n",
      "Batch 58. Data shape torch.Size([8, 1, 64, 64]) Loss 0.587089478969574\n",
      "Batch 59. Data shape torch.Size([8, 1, 64, 64]) Loss 0.583824098110199\n",
      "Batch 60. Data shape torch.Size([8, 1, 64, 64]) Loss 0.591850221157074\n",
      "Batch 61. Data shape torch.Size([8, 1, 64, 64]) Loss 0.567680299282074\n",
      "Batch 62. Data shape torch.Size([8, 1, 64, 64]) Loss 0.572349488735199\n",
      "Batch 63. Data shape torch.Size([8, 1, 64, 64]) Loss 0.583732545375824\n",
      "Batch 64. Data shape torch.Size([8, 1, 64, 64]) Loss 0.591514527797699\n",
      "Batch 65. Data shape torch.Size([8, 1, 64, 64]) Loss 0.569999635219574\n",
      "Batch 66. Data shape torch.Size([8, 1, 64, 64]) Loss 0.574394166469574\n",
      "Batch 67. Data shape torch.Size([8, 1, 64, 64]) Loss 0.576896607875824\n",
      "Batch 68. Data shape torch.Size([8, 1, 64, 64]) Loss 0.585044801235199\n",
      "Batch 69. Data shape torch.Size([8, 1, 64, 64]) Loss 0.584373414516449\n",
      "Batch 70. Data shape torch.Size([8, 1, 64, 64]) Loss 0.576316773891449\n",
      "Batch 71. Data shape torch.Size([8, 1, 64, 64]) Loss 0.582145631313324\n",
      "Batch 72. Data shape torch.Size([8, 1, 64, 64]) Loss 0.580497682094574\n",
      "Batch 73. Data shape torch.Size([8, 1, 64, 64]) Loss 0.576591432094574\n",
      "Batch 74. Data shape torch.Size([8, 1, 64, 64]) Loss 0.581443727016449\n",
      "Batch 75. Data shape torch.Size([8, 1, 64, 64]) Loss 0.561393678188324\n",
      "Batch 76. Data shape torch.Size([8, 1, 64, 64]) Loss 0.569084107875824\n",
      "Batch 77. Data shape torch.Size([8, 1, 64, 64]) Loss 0.564201295375824\n",
      "Batch 78. Data shape torch.Size([8, 1, 64, 64]) Loss 0.568717896938324\n",
      "Batch 79. Data shape torch.Size([8, 1, 64, 64]) Loss 0.585868775844574\n",
      "Batch 80. Data shape torch.Size([8, 1, 64, 64]) Loss 0.566703736782074\n",
      "Batch 81. Data shape torch.Size([8, 1, 64, 64]) Loss 0.574882447719574\n",
      "Batch 82. Data shape torch.Size([8, 1, 64, 64]) Loss 0.578544557094574\n",
      "Batch 83. Data shape torch.Size([8, 1, 64, 64]) Loss 0.556236207485199\n",
      "Batch 84. Data shape torch.Size([8, 1, 64, 64]) Loss 0.578880250453949\n",
      "Batch 85. Data shape torch.Size([8, 1, 64, 64]) Loss 0.572074830532074\n",
      "Batch 86. Data shape torch.Size([8, 1, 64, 64]) Loss 0.571067750453949\n",
      "Batch 87. Data shape torch.Size([8, 1, 64, 64]) Loss 0.583396852016449\n",
      "Batch 88. Data shape torch.Size([8, 1, 64, 64]) Loss 0.587119996547699\n",
      "Batch 89. Data shape torch.Size([8, 1, 64, 64]) Loss 0.573844850063324\n",
      "Batch 90. Data shape torch.Size([8, 1, 64, 64]) Loss 0.579490602016449\n",
      "Batch 91. Data shape torch.Size([8, 1, 64, 64]) Loss 0.583915650844574\n",
      "Batch 92. Data shape torch.Size([8, 1, 64, 64]) Loss 0.566612184047699\n",
      "Batch 93. Data shape torch.Size([8, 1, 64, 64]) Loss 0.585166871547699\n",
      "Batch 94. Data shape torch.Size([8, 1, 64, 64]) Loss 0.573173463344574\n",
      "Batch 95. Data shape torch.Size([8, 1, 64, 64]) Loss 0.581199586391449\n",
      "Batch 96. Data shape torch.Size([8, 1, 64, 64]) Loss 0.577842652797699\n",
      "Batch 97. Data shape torch.Size([8, 1, 64, 64]) Loss 0.584617555141449\n",
      "Batch 98. Data shape torch.Size([8, 1, 64, 64]) Loss 0.592826783657074\n",
      "Batch 99. Data shape torch.Size([8, 1, 64, 64]) Loss 0.558677613735199\n",
      "Batch 100. Data shape torch.Size([8, 1, 64, 64]) Loss 0.569450318813324\n",
      "Batch 101. Data shape torch.Size([8, 1, 64, 64]) Loss 0.578880250453949\n",
      "Batch 102. Data shape torch.Size([8, 1, 64, 64]) Loss 0.576286256313324\n",
      "Batch 103. Data shape torch.Size([8, 1, 64, 64]) Loss 0.583366334438324\n",
      "Batch 104. Data shape torch.Size([8, 1, 64, 64]) Loss 0.587760865688324\n",
      "Batch 105. Data shape torch.Size([8, 1, 64, 64]) Loss 0.570182740688324\n",
      "Batch 106. Data shape torch.Size([8, 1, 64, 64]) Loss 0.571372926235199\n",
      "Batch 107. Data shape torch.Size([8, 1, 64, 64]) Loss 0.563316285610199\n",
      "Batch 108. Data shape torch.Size([8, 1, 64, 64]) Loss 0.581840455532074\n",
      "Batch 109. Data shape torch.Size([8, 1, 64, 64]) Loss 0.566123902797699\n",
      "Batch 110. Data shape torch.Size([8, 1, 64, 64]) Loss 0.563194215297699\n",
      "Batch 111. Data shape torch.Size([8, 1, 64, 64]) Loss 0.564872682094574\n",
      "Batch 112. Data shape torch.Size([8, 1, 64, 64]) Loss 0.576957643032074\n",
      "Batch 113. Data shape torch.Size([8, 1, 64, 64]) Loss 0.555869996547699\n",
      "Batch 114. Data shape torch.Size([8, 1, 64, 64]) Loss 0.586540162563324\n",
      "Batch 115. Data shape torch.Size([8, 1, 64, 64]) Loss 0.560600221157074\n",
      "Batch 116. Data shape torch.Size([8, 1, 64, 64]) Loss 0.572349488735199\n",
      "Batch 117. Data shape torch.Size([8, 1, 64, 64]) Loss 0.574119508266449\n",
      "Batch 118. Data shape torch.Size([8, 1, 64, 64]) Loss 0.566154420375824\n",
      "Batch 119. Data shape torch.Size([8, 1, 64, 64]) Loss 0.580406129360199\n",
      "Batch 120. Data shape torch.Size([8, 1, 64, 64]) Loss 0.567405641078949\n",
      "Batch 121. Data shape torch.Size([8, 1, 64, 64]) Loss 0.584373414516449\n",
      "Batch 122. Data shape torch.Size([8, 1, 64, 64]) Loss 0.569358766078949\n",
      "Batch 123. Data shape torch.Size([8, 1, 64, 64]) Loss 0.566520631313324\n",
      "Batch 124. Data shape torch.Size([8, 1, 64, 64]) Loss 0.572349488735199\n",
      "Batch 125. Data shape torch.Size([8, 1, 64, 64]) Loss 0.558036744594574\n",
      "Batch 126. Data shape torch.Size([8, 1, 64, 64]) Loss 0.568870484828949\n",
      "Batch 127. Data shape torch.Size([8, 1, 64, 64]) Loss 0.573692262172699\n",
      "Batch 128. Data shape torch.Size([8, 1, 64, 64]) Loss 0.573509156703949\n",
      "Batch 129. Data shape torch.Size([8, 1, 64, 64]) Loss 0.593223512172699\n",
      "Batch 130. Data shape torch.Size([8, 1, 64, 64]) Loss 0.571525514125824\n",
      "Batch 131. Data shape torch.Size([8, 1, 64, 64]) Loss 0.574516236782074\n",
      "Batch 132. Data shape torch.Size([8, 1, 64, 64]) Loss 0.583579957485199\n",
      "Batch 133. Data shape torch.Size([8, 1, 64, 64]) Loss 0.574607789516449\n",
      "Batch 134. Data shape torch.Size([8, 1, 64, 64]) Loss 0.570243775844574\n",
      "Batch 135. Data shape torch.Size([8, 1, 64, 64]) Loss 0.560295045375824\n",
      "Batch 136. Data shape torch.Size([8, 1, 64, 64]) Loss 0.582572877407074\n",
      "Batch 137. Data shape torch.Size([8, 1, 64, 64]) Loss 0.580161988735199\n",
      "Batch 138. Data shape torch.Size([8, 1, 64, 64]) Loss 0.561454713344574\n",
      "Batch 139. Data shape torch.Size([8, 1, 64, 64]) Loss 0.574974000453949\n",
      "Batch 140. Data shape torch.Size([8, 1, 64, 64]) Loss 0.582145631313324\n",
      "Batch 141. Data shape torch.Size([8, 1, 64, 64]) Loss 0.604148805141449\n",
      "Batch 142. Data shape torch.Size([8, 1, 64, 64]) Loss 0.573905885219574\n",
      "Batch 143. Data shape torch.Size([8, 1, 64, 64]) Loss 0.580375611782074\n",
      "Batch 144. Data shape torch.Size([8, 1, 64, 64]) Loss 0.554191529750824\n",
      "Batch 145. Data shape torch.Size([8, 1, 64, 64]) Loss 0.575920045375824\n",
      "Batch 146. Data shape torch.Size([8, 1, 64, 64]) Loss 0.569084107875824\n",
      "Batch 147. Data shape torch.Size([8, 1, 64, 64]) Loss 0.573448121547699\n",
      "Batch 148. Data shape torch.Size([8, 1, 64, 64]) Loss 0.578117311000824\n",
      "Batch 149. Data shape torch.Size([8, 1, 64, 64]) Loss 0.576744019985199\n",
      "Batch 150. Data shape torch.Size([8, 1, 64, 64]) Loss 0.572715699672699\n",
      "Batch 151. Data shape torch.Size([8, 1, 64, 64]) Loss 0.572898805141449\n",
      "Batch 152. Data shape torch.Size([8, 1, 64, 64]) Loss 0.564933717250824\n",
      "Batch 153. Data shape torch.Size([8, 1, 64, 64]) Loss 0.563560426235199\n",
      "Batch 154. Data shape torch.Size([8, 1, 64, 64]) Loss 0.565208375453949\n",
      "Batch 155. Data shape torch.Size([8, 1, 64, 64]) Loss 0.573509156703949\n",
      "Batch 156. Data shape torch.Size([8, 1, 64, 64]) Loss 0.590721070766449\n",
      "Batch 157. Data shape torch.Size([8, 1, 64, 64]) Loss 0.578636109828949\n",
      "Batch 158. Data shape torch.Size([8, 1, 64, 64]) Loss 0.580741822719574\n",
      "Batch 159. Data shape torch.Size([8, 1, 64, 64]) Loss 0.596733033657074\n",
      "Batch 160. Data shape torch.Size([8, 1, 64, 64]) Loss 0.575553834438324\n",
      "Batch 161. Data shape torch.Size([8, 1, 64, 64]) Loss 0.568290650844574\n",
      "Batch 162. Data shape torch.Size([8, 1, 64, 64]) Loss 0.562583863735199\n",
      "Batch 163. Data shape torch.Size([8, 1, 64, 64]) Loss 0.583000123500824\n",
      "Batch 164. Data shape torch.Size([8, 1, 64, 64]) Loss 0.561088502407074\n",
      "Batch 165. Data shape torch.Size([8, 1, 64, 64]) Loss 0.569572389125824\n",
      "Batch 166. Data shape torch.Size([8, 1, 64, 64]) Loss 0.574912965297699\n",
      "Batch 167. Data shape torch.Size([8, 1, 64, 64]) Loss 0.553703248500824\n",
      "Batch 168. Data shape torch.Size([8, 1, 64, 64]) Loss 0.583457887172699\n",
      "Batch 169. Data shape torch.Size([8, 1, 64, 64]) Loss 0.557365357875824\n",
      "Batch 170. Data shape torch.Size([2, 1, 64, 64]) Loss 0.590019166469574\n",
      "Validation complete\n",
      "Run complete. Total time: 00:08:36\n",
      "Testing...\n",
      "hippocampus_215.nii.gz Dice 0.0000. 2.56% complete\n",
      "hippocampus_288.nii.gz Dice 0.0000. 5.13% complete\n",
      "hippocampus_212.nii.gz Dice 0.0000. 7.69% complete\n",
      "hippocampus_287.nii.gz Dice 0.0000. 10.26% complete\n",
      "hippocampus_366.nii.gz Dice 0.0000. 12.82% complete\n",
      "hippocampus_277.nii.gz Dice 0.0000. 15.38% complete\n",
      "hippocampus_244.nii.gz Dice 0.0000. 17.95% complete\n",
      "hippocampus_175.nii.gz Dice 0.0000. 20.51% complete\n",
      "hippocampus_156.nii.gz Dice 0.0000. 23.08% complete\n",
      "hippocampus_133.nii.gz Dice 0.0000. 25.64% complete\n",
      "hippocampus_236.nii.gz Dice 0.0000. 28.21% complete\n",
      "hippocampus_302.nii.gz Dice 0.0000. 30.77% complete\n",
      "hippocampus_343.nii.gz Dice 0.0000. 33.33% complete\n",
      "hippocampus_268.nii.gz Dice 0.0000. 35.90% complete\n",
      "hippocampus_087.nii.gz Dice 0.0000. 38.46% complete\n",
      "hippocampus_180.nii.gz Dice 0.0000. 41.03% complete\n",
      "hippocampus_296.nii.gz Dice 0.0000. 43.59% complete\n",
      "hippocampus_298.nii.gz Dice 0.0000. 46.15% complete\n",
      "hippocampus_189.nii.gz Dice 0.0000. 48.72% complete\n",
      "hippocampus_025.nii.gz Dice 0.0000. 51.28% complete\n",
      "hippocampus_317.nii.gz Dice 0.0000. 53.85% complete\n",
      "hippocampus_035.nii.gz Dice 0.0000. 56.41% complete\n",
      "hippocampus_171.nii.gz Dice 0.0000. 58.97% complete\n",
      "hippocampus_142.nii.gz Dice 0.0000. 61.54% complete\n",
      "hippocampus_217.nii.gz Dice 0.0000. 64.10% complete\n",
      "hippocampus_264.nii.gz Dice 0.0000. 66.67% complete\n",
      "hippocampus_190.nii.gz Dice 0.0000. 69.23% complete\n",
      "hippocampus_041.nii.gz Dice 0.0000. 71.79% complete\n",
      "hippocampus_376.nii.gz Dice 0.0000. 74.36% complete\n",
      "hippocampus_038.nii.gz Dice 0.0000. 76.92% complete\n",
      "hippocampus_341.nii.gz Dice 0.0000. 79.49% complete\n",
      "hippocampus_004.nii.gz Dice 0.0000. 82.05% complete\n",
      "hippocampus_185.nii.gz Dice 0.0000. 84.62% complete\n",
      "hippocampus_358.nii.gz Dice 0.0000. 87.18% complete\n",
      "hippocampus_177.nii.gz Dice 0.0000. 89.74% complete\n",
      "hippocampus_333.nii.gz Dice 0.0000. 92.31% complete\n",
      "hippocampus_351.nii.gz Dice 0.0000. 94.87% complete\n",
      "hippocampus_394.nii.gz Dice 0.0000. 97.44% complete\n",
      "hippocampus_354.nii.gz Dice 0.0000. 100.00% complete\n",
      "\n",
      "Testing complete.\n"
     ]
    }
   ],
   "source": [
    "class Config:\n",
    "    \"\"\"\n",
    "    Holds configuration parameters\n",
    "    \"\"\"\n",
    "    def __init__(self):\n",
    "        self.name = \"Basic_unet\"\n",
    "        self.root_dir = r\"../data\"\n",
    "        self.n_epochs = 1\n",
    "        self.learning_rate = 0.0002\n",
    "        self.batch_size = 8\n",
    "        self.patch_size = 64\n",
    "        self.test_results_dir = \"test_results\"\n",
    "\n",
    "if __name__ == \"__main__\":\n",
    "    # Get configuration\n",
    "    c = Config()\n",
    "\n",
    "    # Load data\n",
    "    print(\"Loading data...\")\n",
    "\n",
    "    data = LoadHippocampusData(c.root_dir, y_shape = c.patch_size, z_shape = c.patch_size)\n",
    "\n",
    "    # create three keys in the dictionary (\"train\", \"val\" and \"test\") with each key storing the array with indices \n",
    "    split = dict()\n",
    "    n = len(data)\n",
    "    split['train'], split['val'], split['test'] = np.split(list(range(n)),[int(n * 0.7),int(n * 0.85)]) \n",
    "\n",
    "    # Set up and run experiment\n",
    "    exp = UNetExperiment(c, split, data)\n",
    "\n",
    "    # run training\n",
    "    exp.run()\n",
    "\n",
    "    # prep and run testing\n",
    "    results_json = exp.run_test()\n",
    "\n",
    "    results_json[\"config\"] = vars(c)\n",
    "\n",
    "    with open(os.path.join(exp.out_dir, \"results.json\"), 'w') as out_file:\n",
    "        json.dump(results_json, out_file, indent=2, separators=(',', ': '))"
   ]
  },
  {
   "cell_type": "code",
   "execution_count": 36,
   "metadata": {},
   "outputs": [
    {
     "data": {
      "text/plain": [
       "{'volume_stats': [{'filename': 'hippocampus_215.nii.gz',\n",
       "   'dice': 0.0,\n",
       "   'jaccard': 0.0},\n",
       "  {'filename': 'hippocampus_288.nii.gz', 'dice': 0.0, 'jaccard': 0.0},\n",
       "  {'filename': 'hippocampus_212.nii.gz', 'dice': 0.0, 'jaccard': 0.0},\n",
       "  {'filename': 'hippocampus_287.nii.gz', 'dice': 0.0, 'jaccard': 0.0},\n",
       "  {'filename': 'hippocampus_366.nii.gz', 'dice': 0.0, 'jaccard': 0.0},\n",
       "  {'filename': 'hippocampus_277.nii.gz', 'dice': 0.0, 'jaccard': 0.0},\n",
       "  {'filename': 'hippocampus_244.nii.gz', 'dice': 0.0, 'jaccard': 0.0},\n",
       "  {'filename': 'hippocampus_175.nii.gz', 'dice': 0.0, 'jaccard': 0.0},\n",
       "  {'filename': 'hippocampus_156.nii.gz', 'dice': 0.0, 'jaccard': 0.0},\n",
       "  {'filename': 'hippocampus_133.nii.gz', 'dice': 0.0, 'jaccard': 0.0},\n",
       "  {'filename': 'hippocampus_236.nii.gz', 'dice': 0.0, 'jaccard': 0.0},\n",
       "  {'filename': 'hippocampus_302.nii.gz', 'dice': 0.0, 'jaccard': 0.0},\n",
       "  {'filename': 'hippocampus_343.nii.gz', 'dice': 0.0, 'jaccard': 0.0},\n",
       "  {'filename': 'hippocampus_268.nii.gz', 'dice': 0.0, 'jaccard': 0.0},\n",
       "  {'filename': 'hippocampus_087.nii.gz', 'dice': 0.0, 'jaccard': 0.0},\n",
       "  {'filename': 'hippocampus_180.nii.gz', 'dice': 0.0, 'jaccard': 0.0},\n",
       "  {'filename': 'hippocampus_296.nii.gz', 'dice': 0.0, 'jaccard': 0.0},\n",
       "  {'filename': 'hippocampus_298.nii.gz', 'dice': 0.0, 'jaccard': 0.0},\n",
       "  {'filename': 'hippocampus_189.nii.gz', 'dice': 0.0, 'jaccard': 0.0},\n",
       "  {'filename': 'hippocampus_025.nii.gz', 'dice': 0.0, 'jaccard': 0.0},\n",
       "  {'filename': 'hippocampus_317.nii.gz', 'dice': 0.0, 'jaccard': 0.0},\n",
       "  {'filename': 'hippocampus_035.nii.gz', 'dice': 0.0, 'jaccard': 0.0},\n",
       "  {'filename': 'hippocampus_171.nii.gz', 'dice': 0.0, 'jaccard': 0.0},\n",
       "  {'filename': 'hippocampus_142.nii.gz', 'dice': 0.0, 'jaccard': 0.0},\n",
       "  {'filename': 'hippocampus_217.nii.gz', 'dice': 0.0, 'jaccard': 0.0},\n",
       "  {'filename': 'hippocampus_264.nii.gz', 'dice': 0.0, 'jaccard': 0.0},\n",
       "  {'filename': 'hippocampus_190.nii.gz', 'dice': 0.0, 'jaccard': 0.0},\n",
       "  {'filename': 'hippocampus_041.nii.gz', 'dice': 0.0, 'jaccard': 0.0},\n",
       "  {'filename': 'hippocampus_376.nii.gz', 'dice': 0.0, 'jaccard': 0.0},\n",
       "  {'filename': 'hippocampus_038.nii.gz', 'dice': 0.0, 'jaccard': 0.0},\n",
       "  {'filename': 'hippocampus_341.nii.gz', 'dice': 0.0, 'jaccard': 0.0},\n",
       "  {'filename': 'hippocampus_004.nii.gz', 'dice': 0.0, 'jaccard': 0.0},\n",
       "  {'filename': 'hippocampus_185.nii.gz', 'dice': 0.0, 'jaccard': 0.0},\n",
       "  {'filename': 'hippocampus_358.nii.gz', 'dice': 0.0, 'jaccard': 0.0},\n",
       "  {'filename': 'hippocampus_177.nii.gz', 'dice': 0.0, 'jaccard': 0.0},\n",
       "  {'filename': 'hippocampus_333.nii.gz', 'dice': 0.0, 'jaccard': 0.0},\n",
       "  {'filename': 'hippocampus_351.nii.gz', 'dice': 0.0, 'jaccard': 0.0},\n",
       "  {'filename': 'hippocampus_394.nii.gz', 'dice': 0.0, 'jaccard': 0.0},\n",
       "  {'filename': 'hippocampus_354.nii.gz', 'dice': 0.0, 'jaccard': 0.0}],\n",
       " 'overall': {'mean_dice': 0.0, 'mean_jaccard': 0.0},\n",
       " 'config': {'name': 'Basic_unet',\n",
       "  'root_dir': '../data',\n",
       "  'n_epochs': 1,\n",
       "  'learning_rate': 0.0002,\n",
       "  'batch_size': 8,\n",
       "  'patch_size': 64,\n",
       "  'test_results_dir': 'test_results'}}"
      ]
     },
     "execution_count": 36,
     "metadata": {},
     "output_type": "execute_result"
    }
   ],
   "source": [
    "results_json"
   ]
  },
  {
   "cell_type": "code",
   "execution_count": 37,
   "metadata": {},
   "outputs": [
    {
     "data": {
      "text/plain": [
       "(torch.Size([8, 1, 64, 64]), torch.Size([8, 1, 64, 64]))"
      ]
     },
     "execution_count": 37,
     "metadata": {},
     "output_type": "execute_result"
    }
   ],
   "source": [
    "train_data = DataLoader(SlicesDataset(data[split[\"train\"]]),batch_size=8, shuffle=True, num_workers=0)\n",
    "for x in train_data:\n",
    "    batch = x\n",
    "    break\n",
    "slice_tensor = batch['image']\n",
    "target = batch['seg']\n",
    "slice_tensor.shape, target.shape"
   ]
  },
  {
   "cell_type": "code",
   "execution_count": 38,
   "metadata": {
    "scrolled": true
   },
   "outputs": [
    {
     "data": {
      "image/png": "[encoded data removed]",
      "text/plain": [
       "<Figure size 2520x1800 with 8 Axes>"
      ]
     },
     "metadata": {
      "needs_background": "light"
     },
     "output_type": "display_data"
    }
   ],
   "source": [
    "display_volume_slices(slice_tensor, 4, 2)"
   ]
  },
  {
   "cell_type": "code",
   "execution_count": 39,
   "metadata": {},
   "outputs": [
    {
     "data": {
      "image/png": "[encoded data removed]",
      "text/plain": [
       "<Figure size 2520x1800 with 8 Axes>"
      ]
     },
     "metadata": {
      "needs_background": "light"
     },
     "output_type": "display_data"
    }
   ],
   "source": [
    "display_volume_slices(target, 4, 2)"
   ]
  },
  {
   "cell_type": "code",
   "execution_count": 40,
   "metadata": {},
   "outputs": [
    {
     "data": {
      "text/plain": [
       "torch.Size([8, 64, 64])"
      ]
     },
     "execution_count": 40,
     "metadata": {},
     "output_type": "execute_result"
    }
   ],
   "source": [
    "target[:, 0, :, :].shape"
   ]
  },
  {
   "cell_type": "code",
   "execution_count": 41,
   "metadata": {},
   "outputs": [
    {
     "name": "stdout",
     "output_type": "stream",
     "text": [
      "torch.Size([8, 3, 64, 64])\n"
     ]
    },
    {
     "data": {
      "text/plain": [
       "tensor([[[ 1860.7587,  3355.6375,  4618.4438,  ...,  2813.6484,\n",
       "           2067.5654,  1148.4395],\n",
       "         [ 3280.7698,  5768.7441,  7937.6499,  ...,  4742.1504,\n",
       "           3441.7883,  1975.1414],\n",
       "         [ 4451.7036,  7893.3369, 10858.7402,  ...,  6545.1147,\n",
       "           4866.2734,  2702.7051],\n",
       "         ...,\n",
       "         [ 3160.2329,  5414.0815,  7553.9170,  ...,  6207.5073,\n",
       "           4660.4150,  2563.8533],\n",
       "         [ 2260.0605,  3893.9902,  5417.3530,  ...,  4499.1748,\n",
       "           3364.4746,  1836.8099],\n",
       "         [ 1234.9374,  2122.7783,  2960.3694,  ...,  2343.6804,\n",
       "           1819.4269,   950.5674]],\n",
       "\n",
       "        [[ -895.8956, -1459.9467, -1815.6479,  ...,  -960.5831,\n",
       "           -689.6276,  -319.8068],\n",
       "         [-1595.0975, -2361.7510, -3192.0750,  ..., -1705.7024,\n",
       "          -1130.2987,  -576.5983],\n",
       "         [-1910.5831, -3286.5730, -4173.8223,  ..., -2348.2490,\n",
       "          -1651.2507,  -785.3725],\n",
       "         ...,\n",
       "         [-1350.2391, -2056.4209, -2931.4016,  ..., -2308.3672,\n",
       "          -1595.9928,  -860.8027],\n",
       "         [ -875.8262, -1544.9224, -1989.4763,  ..., -1716.4496,\n",
       "          -1147.6171,  -627.3865],\n",
       "         [ -446.8033,  -764.4636, -1121.5790,  ...,  -924.6895,\n",
       "           -670.5731,  -374.9840]],\n",
       "\n",
       "        [[-1261.5964, -2181.7219, -3000.7275,  ..., -1624.4261,\n",
       "          -1247.1422,  -520.2025],\n",
       "         [-2151.1733, -3372.8220, -4869.1836,  ..., -2663.4360,\n",
       "          -1920.1926,  -950.9892],\n",
       "         [-2625.5322, -4478.7476, -6362.8994,  ..., -3490.6821,\n",
       "          -2627.5293, -1262.1630],\n",
       "         ...,\n",
       "         [-1685.4153, -2796.5562, -3965.2830,  ..., -3186.5315,\n",
       "          -2303.1233, -1173.2272],\n",
       "         [-1140.6333, -1896.8221, -2770.7593,  ..., -2198.1721,\n",
       "          -1651.0233,  -852.3788],\n",
       "         [ -538.5079,  -952.2188, -1312.7397,  ..., -1110.8492,\n",
       "           -796.8775,  -432.6141]]], device='cuda:0', grad_fn=<SliceBackward>)"
      ]
     },
     "execution_count": 41,
     "metadata": {},
     "output_type": "execute_result"
    }
   ],
   "source": [
    "prediction = exp.model(slice_tensor.to(exp.device))\n",
    "print(prediction.shape)\n",
    "prediction[2, :, :, :]"
   ]
  },
  {
   "cell_type": "code",
   "execution_count": 42,
   "metadata": {
    "scrolled": true
   },
   "outputs": [
    {
     "name": "stdout",
     "output_type": "stream",
     "text": [
      "torch.Size([8, 3, 64, 64])\n"
     ]
    },
    {
     "data": {
      "text/plain": [
       "tensor([[[1., 1., 1.,  ..., 1., 1., 1.],\n",
       "         [1., 1., 1.,  ..., 1., 1., 1.],\n",
       "         [1., 1., 1.,  ..., 1., 1., 1.],\n",
       "         ...,\n",
       "         [1., 1., 1.,  ..., 1., 1., 1.],\n",
       "         [1., 1., 1.,  ..., 1., 1., 1.],\n",
       "         [1., 1., 1.,  ..., 1., 1., 1.]],\n",
       "\n",
       "        [[0., 0., 0.,  ..., 0., 0., 0.],\n",
       "         [0., 0., 0.,  ..., 0., 0., 0.],\n",
       "         [0., 0., 0.,  ..., 0., 0., 0.],\n",
       "         ...,\n",
       "         [0., 0., 0.,  ..., 0., 0., 0.],\n",
       "         [0., 0., 0.,  ..., 0., 0., 0.],\n",
       "         [0., 0., 0.,  ..., 0., 0., 0.]],\n",
       "\n",
       "        [[0., 0., 0.,  ..., 0., 0., 0.],\n",
       "         [0., 0., 0.,  ..., 0., 0., 0.],\n",
       "         [0., 0., 0.,  ..., 0., 0., 0.],\n",
       "         ...,\n",
       "         [0., 0., 0.,  ..., 0., 0., 0.],\n",
       "         [0., 0., 0.,  ..., 0., 0., 0.],\n",
       "         [0., 0., 0.,  ..., 0., 0., 0.]]], device='cuda:0',\n",
       "       grad_fn=<SliceBackward>)"
      ]
     },
     "execution_count": 42,
     "metadata": {},
     "output_type": "execute_result"
    }
   ],
   "source": [
    "prediction_softmax = F.softmax(prediction, dim=1)\n",
    "print(prediction_softmax.shape)\n",
    "prediction_softmax[2, :, :, :]"
   ]
  },
  {
   "cell_type": "code",
   "execution_count": 43,
   "metadata": {},
   "outputs": [
    {
     "data": {
      "text/plain": [
       "torch.Size([8, 1, 64, 64])"
      ]
     },
     "execution_count": 43,
     "metadata": {},
     "output_type": "execute_result"
    }
   ],
   "source": [
    "mask = torch.argmax(np.squeeze(prediction_softmax.cpu().detach()), dim=1).unsqueeze(1)\n",
    "mask.shape"
   ]
  },
  {
   "cell_type": "code",
   "execution_count": 44,
   "metadata": {},
   "outputs": [
    {
     "data": {
      "image/png": "[encoded data removed]",
      "text/plain": [
       "<Figure size 2520x1800 with 8 Axes>"
      ]
     },
     "metadata": {
      "needs_background": "light"
     },
     "output_type": "display_data"
    }
   ],
   "source": [
    "display_volume_slices(mask, 4, 2)"
   ]
  },
  {
   "cell_type": "code",
   "execution_count": 45,
   "metadata": {},
   "outputs": [
    {
     "data": {
      "text/plain": [
       "tensor(0.5590, device='cuda:0', grad_fn=<NllLoss2DBackward>)"
      ]
     },
     "execution_count": 45,
     "metadata": {},
     "output_type": "execute_result"
    }
   ],
   "source": [
    "loss = torch.nn.CrossEntropyLoss()(prediction_softmax, target[:, 0, :, :].to(exp.device))\n",
    "loss"
   ]
  },
  {
   "cell_type": "code",
   "execution_count": 46,
   "metadata": {
    "scrolled": true
   },
   "outputs": [
    {
     "name": "stdout",
     "output_type": "stream",
     "text": [
      "tensor(0.4127)\n"
     ]
    }
   ],
   "source": [
    "for x in exp.train_loader:\n",
    "    y = np.squeeze(x['image'][0, :, :])\n",
    "    print(y.max())\n",
    "    break"
   ]
  },
  {
   "cell_type": "code",
   "execution_count": 47,
   "metadata": {
    "scrolled": true
   },
   "outputs": [
    {
     "name": "stdout",
     "output_type": "stream",
     "text": [
      "img (64, 64) [[0.10071941 0.23741005 0.35971221 ... 0.         0.         0.        ]\n",
      " [0.08633094 0.26618704 0.38129497 ... 0.         0.         0.        ]\n",
      " [0.10791367 0.33093524 0.37410071 ... 0.         0.         0.        ]\n",
      " ...\n",
      " [0.         0.         0.         ... 0.         0.         0.        ]\n",
      " [0.         0.         0.         ... 0.         0.         0.        ]\n",
      " [0.         0.         0.         ... 0.         0.         0.        ]]\n",
      "(64, 64)\n",
      "0.9784172773361206\n",
      "pred torch.Size([1, 3, 64, 64]) tensor([[[[ 1823.6031,  3289.7100,  4532.3101,  ...,  2717.1021,\n",
      "            1996.5980,  1109.0364],\n",
      "          [ 3214.9180,  5655.1133,  7789.3525,  ...,  4578.9478,\n",
      "            3323.3208,  1907.1725],\n",
      "          [ 4361.3560,  7735.6099, 10652.7080,  ...,  6317.1436,\n",
      "            4696.7920,  2608.6370],\n",
      "          ...,\n",
      "          [ 3144.2314,  5388.7954,  7527.7822,  ...,  5918.6973,\n",
      "            4441.8257,  2443.2725],\n",
      "          [ 2247.3213,  3873.4080,  5395.4790,  ...,  4289.4302,\n",
      "            3206.3918,  1750.2559],\n",
      "          [ 1227.6833,  2111.2412,  2947.7678,  ...,  2234.2864,\n",
      "            1733.8573,   905.7396]],\n",
      "\n",
      "         [[ -878.0609, -1431.5137, -1782.6180,  ...,  -927.6390,\n",
      "            -665.9476,  -308.8470],\n",
      "          [-1563.1456, -2315.3633, -3133.7966,  ..., -1647.0029,\n",
      "           -1091.4017,  -556.7758],\n",
      "          [-1871.8907, -3221.2935, -4096.1714,  ..., -2266.5989,\n",
      "           -1593.7390,  -758.0956],\n",
      "          ...,\n",
      "          [-1343.2700, -2046.5278, -2922.1023,  ..., -2200.9092,\n",
      "           -1521.1073,  -820.3474],\n",
      "          [ -870.9085, -1536.8065, -1981.9360,  ..., -1636.4402,\n",
      "           -1093.6888,  -597.8494],\n",
      "          [ -444.1490,  -760.2079, -1116.8209,  ...,  -881.5901,\n",
      "            -639.0271,  -357.3061]],\n",
      "\n",
      "         [[-1236.4102, -2138.9646, -2945.5286,  ..., -1568.6613,\n",
      "           -1204.3080,  -502.3452],\n",
      "          [-2108.1416, -3306.3606, -4779.7510,  ..., -2571.7026,\n",
      "           -1854.0461,  -918.2321],\n",
      "          [-2572.2512, -4389.3506, -6243.2876,  ..., -3368.8987,\n",
      "           -2535.8479, -1218.2206],\n",
      "          ...,\n",
      "          [-1676.6687, -2783.0464, -3952.0925,  ..., -3038.2717,\n",
      "           -2195.0571, -1118.0818],\n",
      "          [-1134.2802, -1886.7383, -2760.1116,  ..., -2095.8059,\n",
      "           -1573.4456,  -812.2603],\n",
      "          [ -535.3762,  -946.9486, -1307.2867,  ..., -1059.0530,\n",
      "            -759.4095,  -412.2238]]]], device='cuda:0', grad_fn=<AddBackward0>)\n",
      "mask torch.Size([64, 64]) tensor([[0, 0, 0,  ..., 0, 0, 0],\n",
      "        [0, 0, 0,  ..., 0, 0, 0],\n",
      "        [0, 0, 0,  ..., 0, 0, 0],\n",
      "        ...,\n",
      "        [0, 0, 0,  ..., 0, 0, 0],\n",
      "        [0, 0, 0,  ..., 0, 0, 0],\n",
      "        [0, 0, 0,  ..., 0, 0, 0]])\n",
      "tensor(0)\n"
     ]
    }
   ],
   "source": [
    "exp.model.eval()\n",
    "\n",
    "# volume is a numpy array of shape [X,Y,Z] and I will slice X axis\n",
    "slices = []\n",
    "\n",
    "# create mask for each slice across the X (0th) dimension. \n",
    "# put all slices into a 3D Numpy array\n",
    "# volume = exp.test_data[0]['image']\n",
    "volume = exp.test_data[0]['image']\n",
    "img = volume[0,:,:]\n",
    "print('img', img.shape, img)\n",
    "z = np.squeeze(img)\n",
    "print(z.shape)\n",
    "print(z.max())\n",
    "# slc = img.astype(np.single)/np.max(img)\n",
    "# print('slc', slc.shape, slc)\n",
    "# slc_tensor = torch.from_numpy(slc).unsqueeze(0).unsqueeze(0).to(exp.device)\n",
    "# print('slc_tensor', slc_tensor.shape, slc_tensor)\n",
    "slc_tensor = torch.from_numpy(volume[0,:,:].astype(np.single)).unsqueeze(0).unsqueeze(0).to(exp.device)\n",
    "pred = exp.model(slc_tensor)\n",
    "print('pred', pred.shape, pred)\n",
    "mask = torch.argmax(np.squeeze(pred.cpu().detach()), dim=0)\n",
    "print('mask', mask.shape, mask)\n",
    "print((mask>0).sum())"
   ]
  },
  {
   "cell_type": "code",
   "execution_count": 48,
   "metadata": {},
   "outputs": [
    {
     "name": "stdout",
     "output_type": "stream",
     "text": [
      "0.023802552364901055\n",
      "0.02532888019340856\n",
      "0.025626350355563824\n",
      "0.025025025025025027\n",
      "0.02696292682265726\n",
      "0.025056118425043985\n",
      "0.021044345316189976\n",
      "0.020682780961873908\n",
      "0.025025025025025027\n",
      "0.021805737678702787\n",
      "0.020806530920161926\n",
      "0.02764078449363459\n",
      "0.020380836719759602\n",
      "0.022421261287717494\n",
      "0.02654436352960552\n",
      "0.01798836600077918\n",
      "0.02809770370476614\n",
      "0.019213826961229363\n",
      "0.024695328973231834\n",
      "0.023751374666152507\n",
      "0.02490844157321262\n",
      "0.024658709170180832\n",
      "0.026301848431482037\n",
      "0.017633098181770633\n",
      "0.02033484981579327\n",
      "0.02530861757769785\n",
      "0.02232145868607624\n",
      "0.026187775326564272\n",
      "0.025619012870316715\n",
      "0.024041515196562023\n",
      "0.01893529222394568\n",
      "0.025723785806702933\n",
      "0.02219655322395488\n",
      "0.020551992197788898\n",
      "0.01955874033565906\n",
      "0.019881840749096453\n",
      "0.026669340284740325\n",
      "0.026552122638225588\n",
      "0.02014611467788355\n"
     ]
    }
   ],
   "source": [
    "s = exp.test_data[0]['seg']\n",
    "for x in exp.test_data:\n",
    "    print((x['seg']>0).sum() / (x['seg']==0).sum())"
   ]
  },
  {
   "cell_type": "code",
   "execution_count": null,
   "metadata": {},
   "outputs": [],
   "source": []
  }
 ],
 "metadata": {
  "kernelspec": {
   "display_name": "Python 3",
   "language": "python",
   "name": "python3"
  },
  "language_info": {
   "codemirror_mode": {
    "name": "ipython",
    "version": 3
   },
   "file_extension": ".py",
   "mimetype": "text/x-python",
   "name": "python",
   "nbconvert_exporter": "python",
   "pygments_lexer": "ipython3",
   "version": "3.8.2"
  }
 },
 "nbformat": 4,
 "nbformat_minor": 4
}
